{
 "cells": [
  {
   "cell_type": "code",
   "execution_count": 4,
   "id": "bizarre-radiation",
   "metadata": {},
   "outputs": [],
   "source": [
    "def parse_input(filepath):\n",
    "    with open(filepath, 'r') as f:\n",
    "        lines = [l.strip() for l in f]\n",
    "    return lines"
   ]
  },
  {
   "cell_type": "code",
   "execution_count": 144,
   "id": "egyptian-comparison",
   "metadata": {},
   "outputs": [],
   "source": [
    "lines = parse_input('input.txt')"
   ]
  },
  {
   "cell_type": "code",
   "execution_count": 145,
   "id": "careful-acquisition",
   "metadata": {},
   "outputs": [
    {
     "data": {
      "text/plain": [
       "['{<[[<<<[[{[[<<()()>>[([]<>){{}{}}]]]<(<{{}<>}{{}{}}><{<>[]}[{}{}]>)({(())}<[(){}][(){}]>)>}]<<<(<<{}',\n",
       " '{[({({([({(((<[]()>[()<>]){[<>[]](<>[])})<<<[]()}>(<()()>)>)}[{((<{}[]>{<>()}){[<>{}]<<><>>})(({[]()}<<>()>)<',\n",
       " '(((([{{{<{<[[<()<>><<>{}>]]{<(<>())>}>{<[([]<>)<{}{}>][[<><>][<>[]]]>[{(<>{})[<>()]}<<()[]>[[]<',\n",
       " '<<[<([[{{{[({<<>()>}<<<>[]>([]())>){{{{}[]}<(){}>)}]{{[(()())[(){}]]<<[]{}>({}[])>}({<<><>>}<([]<>){()[]}>)}',\n",
       " '<[(({[({<<[[[{<>{}}(<><>))<(<>[])[{}[]]>]<[([][])[(){}]]>]([<[()()](<>[])>]<(<{}()>[{}<>])({<>[',\n",
       " '(<[[{[[[(<((<<{}{}><[]<>>><[{}<>][<>[]]>)<(<{}<>><{}{}>)[{()[]}<<>()>]>)>[(<{({}{})}[{()[]}{[]<>}]>){<(([]',\n",
       " '(([[({{{(<([({[]{}}){{[][]]}])>)[<([[[{}]{(){}}][([]())]]([{[][]}{<>()}](({}()){<>{}})))[{({',\n",
       " '{(<<([([(<<[{((){})([]<>)}]<{{{}{}}{{}[]}}<{(){}}{()[]})>><([<[]{}>([]<>)](<()<>>)){<([]<>',\n",
       " '{[<<[<{{((({<[[]{}]{{}}>{<{}<>>[<>[]]}})<{[(<><>><{}<>>][{[]{}}]}[[[[][]]<<>{}>]{[[]()][[]<>]}]>)[(',\n",
       " '({<(<([{<{<[(((){}){(){}})]>}[{{{{()()}<[]()>}{{<>()}<{}{}>}}[[{{}{}}[<><>]]{({}[]>[[]{}]}]}({{{()()']"
      ]
     },
     "execution_count": 145,
     "metadata": {},
     "output_type": "execute_result"
    }
   ],
   "source": [
    "lines[:10]"
   ]
  },
  {
   "cell_type": "code",
   "execution_count": 146,
   "id": "according-contact",
   "metadata": {},
   "outputs": [],
   "source": [
    "bracket_pairs = [\n",
    "    ('()', 3, 1),\n",
    "    ('{}', 1197, 3),\n",
    "    ('<>', 25137, 4),\n",
    "    ('[]', 57, 2)\n",
    "]"
   ]
  },
  {
   "cell_type": "code",
   "execution_count": 147,
   "id": "subtle-swiss",
   "metadata": {},
   "outputs": [],
   "source": [
    "close_to_open = {k: v for (v, k), *_ in bracket_pairs}"
   ]
  },
  {
   "cell_type": "code",
   "execution_count": 148,
   "id": "tamil-liberal",
   "metadata": {},
   "outputs": [],
   "source": [
    "open_to_close = {k: v for (k, v), *_ in bracket_pairs}"
   ]
  },
  {
   "cell_type": "code",
   "execution_count": 149,
   "id": "racial-measure",
   "metadata": {},
   "outputs": [],
   "source": [
    "corrupt_scores_dict = {k: v for (_, k), v, _ in bracket_pairs}"
   ]
  },
  {
   "cell_type": "code",
   "execution_count": 150,
   "id": "alone-siemens",
   "metadata": {},
   "outputs": [],
   "source": [
    "incomplete_scores_dict = {k: v for (_, k), _, v in bracket_pairs}"
   ]
  },
  {
   "cell_type": "code",
   "execution_count": 151,
   "id": "promising-joseph",
   "metadata": {},
   "outputs": [],
   "source": [
    "brackets, corrupt_scores, incomplete_scores = list(zip(*bracket_pairs))"
   ]
  },
  {
   "cell_type": "code",
   "execution_count": 152,
   "id": "driven-alcohol",
   "metadata": {},
   "outputs": [],
   "source": [
    "opening_brackets, closing_brackets = list(zip(*brackets))"
   ]
  },
  {
   "cell_type": "code",
   "execution_count": 153,
   "id": "packed-earthquake",
   "metadata": {},
   "outputs": [],
   "source": [
    "def find_error(s):\n",
    "    stack = list()\n",
    "    for e in s:\n",
    "        if e in open_brackets:\n",
    "            stack.append(e)\n",
    "        elif e in closing_brackets:\n",
    "            if not stack:\n",
    "                return ('corrupt', e)\n",
    "            elif bracket_dict[e] != stack.pop():\n",
    "                return ('corrupt', e)\n",
    "    \n",
    "    closing_chars = list()\n",
    "    while stack:\n",
    "        closing_chars.append(open_to_close[stack.pop()])\n",
    "    \n",
    "    closing_string = ''.join(closing_chars)\n",
    "\n",
    "    return ('incomplete', closing_string)"
   ]
  },
  {
   "cell_type": "code",
   "execution_count": 154,
   "id": "bronze-address",
   "metadata": {},
   "outputs": [],
   "source": [
    "from functools import reduce"
   ]
  },
  {
   "cell_type": "code",
   "execution_count": 155,
   "id": "intended-acoustic",
   "metadata": {},
   "outputs": [
    {
     "name": "stdout",
     "output_type": "stream",
     "text": [
      "Help on built-in function reduce in module _functools:\n",
      "\n",
      "reduce(...)\n",
      "    reduce(function, sequence[, initial]) -> value\n",
      "    \n",
      "    Apply a function of two arguments cumulatively to the items of a sequence,\n",
      "    from left to right, so as to reduce the sequence to a single value.\n",
      "    For example, reduce(lambda x, y: x+y, [1, 2, 3, 4, 5]) calculates\n",
      "    ((((1+2)+3)+4)+5).  If initial is present, it is placed before the items\n",
      "    of the sequence in the calculation, and serves as a default when the\n",
      "    sequence is empty.\n",
      "\n"
     ]
    }
   ],
   "source": [
    "help(reduce)"
   ]
  },
  {
   "cell_type": "code",
   "execution_count": 156,
   "id": "varied-dairy",
   "metadata": {},
   "outputs": [],
   "source": [
    "def get_incomplete_score(s):\n",
    "    char_scores = (incomplete_scores_dict[e] for e in s)\n",
    "    return reduce(lambda x, y: (5*x)  + y, char_scores, 0)"
   ]
  },
  {
   "cell_type": "code",
   "execution_count": 157,
   "id": "respective-chosen",
   "metadata": {},
   "outputs": [],
   "source": [
    "def get_score(errors):\n",
    "    corrupt_score = 0\n",
    "    incomplete_scores = []\n",
    "    for error_type, s in errors:\n",
    "        if error_type == 'corrupt':\n",
    "            corrupt_score += corrupt_scores_dict[s]\n",
    "        elif error_type == 'incomplete':\n",
    "            incomplete_scores.append(get_incomplete_score(s))\n",
    "    \n",
    "    incomplete_score = sorted(incomplete_scores)[len(incomplete_scores)//2]\n",
    "\n",
    "    return corrupt_score, incomplete_score"
   ]
  },
  {
   "cell_type": "code",
   "execution_count": 158,
   "id": "intermediate-pioneer",
   "metadata": {},
   "outputs": [
    {
     "data": {
      "text/plain": [
       "'{<[[<<<[[{[[<<()()>>[([]<>){{}{}}]]]<(<{{}<>}{{}{}}><{<>[]}[{}{}]>)({(())}<[(){}][(){}]>)>}]<<<(<<{}'"
      ]
     },
     "execution_count": 158,
     "metadata": {},
     "output_type": "execute_result"
    }
   ],
   "source": [
    "lines[0]"
   ]
  },
  {
   "cell_type": "code",
   "execution_count": 159,
   "id": "disturbed-average",
   "metadata": {},
   "outputs": [],
   "source": [
    "errors = [find_error(s) for s in lines]"
   ]
  },
  {
   "cell_type": "code",
   "execution_count": 160,
   "id": "significant-ceremony",
   "metadata": {},
   "outputs": [
    {
     "data": {
      "text/plain": [
       "[('incomplete', '>>)>>>]>>>]]>}'),\n",
       " ('corrupt', '}'),\n",
       " ('incomplete', '>]>]}}>}}}]))))'),\n",
       " ('corrupt', ')'),\n",
       " ('corrupt', ')'),\n",
       " ('incomplete', '))>}])]]]}]]>)'),\n",
       " ('corrupt', ']'),\n",
       " ('corrupt', ')'),\n",
       " ('corrupt', '>'),\n",
       " ('corrupt', '>')]"
      ]
     },
     "execution_count": 160,
     "metadata": {},
     "output_type": "execute_result"
    }
   ],
   "source": [
    "errors[:10]"
   ]
  },
  {
   "cell_type": "code",
   "execution_count": 163,
   "id": "agricultural-snowboard",
   "metadata": {},
   "outputs": [],
   "source": [
    "corrupt_score, incomplete_score = get_score(errors)"
   ]
  },
  {
   "cell_type": "code",
   "execution_count": 164,
   "id": "moral-diving",
   "metadata": {},
   "outputs": [
    {
     "data": {
      "text/plain": [
       "(266301, 3404870164)"
      ]
     },
     "execution_count": 164,
     "metadata": {},
     "output_type": "execute_result"
    }
   ],
   "source": [
    "corrupt_score, incomplete_score"
   ]
  },
  {
   "cell_type": "code",
   "execution_count": null,
   "id": "baking-rental",
   "metadata": {},
   "outputs": [],
   "source": []
  }
 ],
 "metadata": {
  "kernelspec": {
   "display_name": "Python 3",
   "language": "python",
   "name": "python3"
  },
  "language_info": {
   "codemirror_mode": {
    "name": "ipython",
    "version": 3
   },
   "file_extension": ".py",
   "mimetype": "text/x-python",
   "name": "python",
   "nbconvert_exporter": "python",
   "pygments_lexer": "ipython3",
   "version": "3.9.4"
  }
 },
 "nbformat": 4,
 "nbformat_minor": 5
}
