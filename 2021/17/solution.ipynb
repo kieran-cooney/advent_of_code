{
 "cells": [
  {
   "cell_type": "code",
   "execution_count": 41,
   "id": "macro-literacy",
   "metadata": {},
   "outputs": [],
   "source": [
    "import re\n",
    "import math\n",
    "\n",
    "from collections import defaultdict\n",
    "from itertools import count, takewhile, accumulate"
   ]
  },
  {
   "cell_type": "code",
   "execution_count": 2,
   "id": "charged-volunteer",
   "metadata": {},
   "outputs": [],
   "source": [
    "INPUT_PATTERN = re.compile(r\"^target area: x=(-?\\d+)..(-?\\d+), y=(-?\\d+)..(-?\\d+)$\")"
   ]
  },
  {
   "cell_type": "code",
   "execution_count": 3,
   "id": "naked-stake",
   "metadata": {},
   "outputs": [],
   "source": [
    "def parse_input(filepath):\n",
    "    with open(filepath, 'r') as f:\n",
    "        line = next(f).strip()\n",
    "    \n",
    "    coords = INPUT_PATTERN.match(line).groups()\n",
    "    \n",
    "    return tuple(int(s) for s in coords)"
   ]
  },
  {
   "cell_type": "code",
   "execution_count": 114,
   "id": "informed-arthritis",
   "metadata": {},
   "outputs": [],
   "source": [
    "x1, x2, y1, y2 = parse_input('input.txt')"
   ]
  },
  {
   "cell_type": "code",
   "execution_count": 115,
   "id": "wrapped-decision",
   "metadata": {},
   "outputs": [],
   "source": [
    "left_x, right_x = sorted([x1, x2])\n",
    "bottom_y, top_y = sorted([y1, y2])"
   ]
  },
  {
   "cell_type": "code",
   "execution_count": 116,
   "id": "alien-stone",
   "metadata": {},
   "outputs": [
    {
     "data": {
      "text/plain": [
       "(56, 76, -162, -134)"
      ]
     },
     "execution_count": 116,
     "metadata": {},
     "output_type": "execute_result"
    }
   ],
   "source": [
    "x1, x2, y1, y2"
   ]
  },
  {
   "cell_type": "markdown",
   "id": "north-plymouth",
   "metadata": {},
   "source": [
    "Hm, a lot of edge cases... Can we find an upper bound?\n",
    "Start with data"
   ]
  },
  {
   "cell_type": "code",
   "execution_count": 76,
   "id": "optional-collapse",
   "metadata": {},
   "outputs": [],
   "source": [
    "def get_all_ys(init_y):\n",
    "    return list(takewhile(lambda y: y >= bottom_y, accumulate(init_y - t for t in count())))"
   ]
  },
  {
   "cell_type": "code",
   "execution_count": 102,
   "id": "occasional-female",
   "metadata": {},
   "outputs": [],
   "source": [
    "def get_times_to_init_ys():\n",
    "    data = defaultdict(list)\n",
    "    for i in range(min_init_y, max_init_y + 1):\n",
    "        results = get_all_ys(i)\n",
    "        for t, y in enumerate(results, 1):\n",
    "            if y in range(y1, y2+1):\n",
    "                data[t].append(i)\n",
    "    return data"
   ]
  },
  {
   "cell_type": "code",
   "execution_count": 103,
   "id": "upper-excellence",
   "metadata": {},
   "outputs": [],
   "source": [
    "def get_all_xs(init_x):\n",
    "    return accumulate(range(init_x, 0, -1))"
   ]
  },
  {
   "cell_type": "code",
   "execution_count": 117,
   "id": "neural-silicon",
   "metadata": {},
   "outputs": [],
   "source": [
    "min_init_y, max_init_y = -1*abs(bottom_y), abs(bottom_y)"
   ]
  },
  {
   "cell_type": "code",
   "execution_count": 105,
   "id": "sealed-sampling",
   "metadata": {},
   "outputs": [],
   "source": [
    "def get_times_to_init_xs():\n",
    "    times = defaultdict(list)\n",
    "    stucks = list()\n",
    "\n",
    "    for i in range(1, x2 + 1):\n",
    "        for t, x in enumerate(get_all_xs(i), 1):\n",
    "            if x in range(x1, x2+1):\n",
    "                times[t].append(i)\n",
    "    \n",
    "        if x in range(x1, x2+1):\n",
    "            stucks.append(i)\n",
    "    \n",
    "    return times, stucks"
   ]
  },
  {
   "cell_type": "code",
   "execution_count": 118,
   "id": "funny-holocaust",
   "metadata": {},
   "outputs": [],
   "source": [
    "valid_y_sims = get_times_to_init_ys()"
   ]
  },
  {
   "cell_type": "code",
   "execution_count": 119,
   "id": "ranging-blues",
   "metadata": {},
   "outputs": [],
   "source": [
    "valid_x_sims, stucks = get_times_to_init_xs()"
   ]
  },
  {
   "cell_type": "code",
   "execution_count": 108,
   "id": "vietnamese-western",
   "metadata": {},
   "outputs": [
    {
     "data": {
      "text/plain": [
       "[6, 7]"
      ]
     },
     "execution_count": 108,
     "metadata": {},
     "output_type": "execute_result"
    }
   ],
   "source": [
    "stucks"
   ]
  },
  {
   "cell_type": "code",
   "execution_count": 82,
   "id": "infectious-modern",
   "metadata": {},
   "outputs": [
    {
     "data": {
      "text/plain": [
       "7"
      ]
     },
     "execution_count": 82,
     "metadata": {},
     "output_type": "execute_result"
    }
   ],
   "source": [
    "len(valid_x_sims)"
   ]
  },
  {
   "cell_type": "code",
   "execution_count": 48,
   "id": "pediatric-scenario",
   "metadata": {},
   "outputs": [
    {
     "data": {
      "text/plain": [
       "[4, 5, 3, 6, 2, 1, 0]"
      ]
     },
     "execution_count": 48,
     "metadata": {},
     "output_type": "execute_result"
    }
   ],
   "source": [
    "list(valid_x_sims.keys())"
   ]
  },
  {
   "cell_type": "code",
   "execution_count": 101,
   "id": "rural-indie",
   "metadata": {},
   "outputs": [
    {
     "data": {
      "text/plain": [
       "[2]"
      ]
     },
     "execution_count": 101,
     "metadata": {},
     "output_type": "execute_result"
    }
   ],
   "source": [
    "valid_y_sims[6]"
   ]
  },
  {
   "cell_type": "code",
   "execution_count": 120,
   "id": "composite-small",
   "metadata": {},
   "outputs": [],
   "source": [
    "def get_all_initial_conditions(x_times, x_stucks, y_times):\n",
    "    sols = set()\n",
    "    for t, init_ys in y_times.items():\n",
    "        for init_x in x_times.get(t, []):\n",
    "            for init_y in init_ys:\n",
    "                sols.add((init_x, init_y))\n",
    "\n",
    "        for init_x in x_stucks:\n",
    "            if t > init_x:\n",
    "                for init_y in init_ys:\n",
    "                    sols.add((init_x, init_y))\n",
    "        \n",
    "    return sols"
   ]
  },
  {
   "cell_type": "code",
   "execution_count": 121,
   "id": "textile-liberty",
   "metadata": {},
   "outputs": [],
   "source": [
    "s = get_all_initial_conditions(valid_x_sims, stucks, valid_y_sims)"
   ]
  },
  {
   "cell_type": "code",
   "execution_count": 122,
   "id": "collected-board",
   "metadata": {},
   "outputs": [
    {
     "data": {
      "text/plain": [
       "1031"
      ]
     },
     "execution_count": 122,
     "metadata": {},
     "output_type": "execute_result"
    }
   ],
   "source": [
    "len(s)"
   ]
  },
  {
   "cell_type": "code",
   "execution_count": 96,
   "id": "filled-marble",
   "metadata": {},
   "outputs": [
    {
     "data": {
      "text/plain": [
       "[6, 7]"
      ]
     },
     "execution_count": 96,
     "metadata": {},
     "output_type": "execute_result"
    }
   ],
   "source": [
    "stucks"
   ]
  },
  {
   "cell_type": "code",
   "execution_count": 54,
   "id": "organic-galaxy",
   "metadata": {},
   "outputs": [],
   "source": [
    "test_sols_s = \"\"\"23,-10  25,-9   27,-5   29,-6   22,-6   21,-7   9,0     27,-7   24,-5\n",
    "25,-7   26,-6   25,-5   6,8     11,-2   20,-5   29,-10  6,3     28,-7\n",
    "8,0     30,-6   29,-8   20,-10  6,7     6,4     6,1     14,-4   21,-6\n",
    "26,-10  7,-1    7,7     8,-1    21,-9   6,2     20,-7   30,-10  14,-3\n",
    "20,-8   13,-2   7,3     28,-8   29,-9   15,-3   22,-5   26,-8   25,-8\n",
    "25,-6   15,-4   9,-2    15,-2   12,-2   28,-9   12,-3   24,-6   23,-7\n",
    "25,-10  7,8     11,-3   26,-7   7,1     23,-9   6,0     22,-10  27,-6\n",
    "8,1     22,-8   13,-4   7,6     28,-6   11,-4   12,-4   26,-9   7,4\n",
    "24,-10  23,-8   30,-8   7,0     9,-1    10,-1   26,-5   22,-9   6,5\n",
    "7,5     23,-6   28,-10  10,-2   11,-1   20,-9   14,-2   29,-7   13,-3\n",
    "23,-5   24,-8   27,-9   30,-7   28,-5   21,-10  7,9     6,6     21,-5\n",
    "27,-10  7,2     30,-9   21,-8   22,-7   24,-9   20,-6   6,9     29,-5\n",
    "8,-2    27,-8   30,-5   24,-7\"\"\""
   ]
  },
  {
   "cell_type": "code",
   "execution_count": 97,
   "id": "beneficial-replica",
   "metadata": {},
   "outputs": [],
   "source": [
    "tests_sols = {tuple(int(x) for x in s.split(',')) for s in test_sols_s.split()}"
   ]
  },
  {
   "cell_type": "code",
   "execution_count": 98,
   "id": "quantitative-particular",
   "metadata": {},
   "outputs": [
    {
     "data": {
      "text/plain": [
       "112"
      ]
     },
     "execution_count": 98,
     "metadata": {},
     "output_type": "execute_result"
    }
   ],
   "source": [
    "len(tests_sols)"
   ]
  },
  {
   "cell_type": "code",
   "execution_count": 88,
   "id": "fossil-emission",
   "metadata": {},
   "outputs": [
    {
     "data": {
      "text/plain": [
       "98"
      ]
     },
     "execution_count": 88,
     "metadata": {},
     "output_type": "execute_result"
    }
   ],
   "source": [
    "len(s)"
   ]
  },
  {
   "cell_type": "code",
   "execution_count": 112,
   "id": "governing-interim",
   "metadata": {},
   "outputs": [
    {
     "data": {
      "text/plain": [
       "0"
      ]
     },
     "execution_count": 112,
     "metadata": {},
     "output_type": "execute_result"
    }
   ],
   "source": [
    "len(tests_sols - s)"
   ]
  },
  {
   "cell_type": "code",
   "execution_count": 90,
   "id": "empty-pilot",
   "metadata": {},
   "outputs": [
    {
     "data": {
      "text/plain": [
       "0"
      ]
     },
     "execution_count": 90,
     "metadata": {},
     "output_type": "execute_result"
    }
   ],
   "source": [
    "len(s - tests_sols)"
   ]
  },
  {
   "cell_type": "code",
   "execution_count": 113,
   "id": "spectacular-investing",
   "metadata": {},
   "outputs": [
    {
     "data": {
      "text/plain": [
       "112"
      ]
     },
     "execution_count": 113,
     "metadata": {},
     "output_type": "execute_result"
    }
   ],
   "source": [
    "len(s & tests_sols)"
   ]
  },
  {
   "cell_type": "code",
   "execution_count": 99,
   "id": "beneficial-conditions",
   "metadata": {},
   "outputs": [
    {
     "data": {
      "text/plain": [
       "{(6, 2)}"
      ]
     },
     "execution_count": 99,
     "metadata": {},
     "output_type": "execute_result"
    }
   ],
   "source": [
    "tests_sols - s"
   ]
  },
  {
   "cell_type": "code",
   "execution_count": 73,
   "id": "greater-tennis",
   "metadata": {},
   "outputs": [
    {
     "data": {
      "text/plain": [
       "{(6, 3),\n",
       " (6, 4),\n",
       " (6, 5),\n",
       " (6, 6),\n",
       " (6, 7),\n",
       " (6, 8),\n",
       " (6, 9),\n",
       " (7, 3),\n",
       " (7, 4),\n",
       " (7, 5),\n",
       " (7, 6),\n",
       " (7, 7),\n",
       " (7, 8),\n",
       " (7, 9),\n",
       " (12, -3),\n",
       " (12, -2),\n",
       " (13, -3),\n",
       " (13, -2),\n",
       " (14, -3),\n",
       " (14, -2),\n",
       " (15, -3),\n",
       " (15, -2),\n",
       " (20, -10),\n",
       " (20, -9),\n",
       " (20, -8),\n",
       " (20, -7),\n",
       " (20, -6),\n",
       " (20, -5),\n",
       " (21, -10),\n",
       " (21, -9),\n",
       " (21, -8),\n",
       " (21, -7),\n",
       " (21, -6),\n",
       " (21, -5),\n",
       " (22, -10),\n",
       " (22, -9),\n",
       " (22, -8),\n",
       " (22, -7),\n",
       " (22, -6),\n",
       " (22, -5),\n",
       " (23, -10),\n",
       " (23, -9),\n",
       " (23, -8),\n",
       " (23, -7),\n",
       " (23, -6),\n",
       " (23, -5),\n",
       " (24, -10),\n",
       " (24, -9),\n",
       " (24, -8),\n",
       " (24, -7),\n",
       " (24, -6),\n",
       " (24, -5),\n",
       " (25, -10),\n",
       " (25, -9),\n",
       " (25, -8),\n",
       " (25, -7),\n",
       " (25, -6),\n",
       " (25, -5),\n",
       " (26, -10),\n",
       " (26, -9),\n",
       " (26, -8),\n",
       " (26, -7),\n",
       " (26, -6),\n",
       " (26, -5),\n",
       " (27, -10),\n",
       " (27, -9),\n",
       " (27, -8),\n",
       " (27, -7),\n",
       " (27, -6),\n",
       " (27, -5),\n",
       " (28, -10),\n",
       " (28, -9),\n",
       " (28, -8),\n",
       " (28, -7),\n",
       " (28, -6),\n",
       " (28, -5),\n",
       " (29, -10),\n",
       " (29, -9),\n",
       " (29, -8),\n",
       " (29, -7),\n",
       " (29, -6),\n",
       " (29, -5),\n",
       " (30, -10),\n",
       " (30, -9),\n",
       " (30, -8),\n",
       " (30, -7),\n",
       " (30, -6),\n",
       " (30, -5)}"
      ]
     },
     "execution_count": 73,
     "metadata": {},
     "output_type": "execute_result"
    }
   ],
   "source": [
    "tests_sols - s"
   ]
  },
  {
   "cell_type": "code",
   "execution_count": 72,
   "id": "amazing-genius",
   "metadata": {},
   "outputs": [
    {
     "data": {
      "text/plain": [
       "{(8, -3),\n",
       " (9, -3),\n",
       " (10, -3),\n",
       " (11, -9),\n",
       " (11, -8),\n",
       " (11, -7),\n",
       " (11, -6),\n",
       " (11, -5),\n",
       " (12, -9),\n",
       " (12, -8),\n",
       " (12, -7),\n",
       " (12, -6),\n",
       " (12, -5),\n",
       " (13, -9),\n",
       " (13, -8),\n",
       " (13, -7),\n",
       " (13, -6),\n",
       " (13, -5),\n",
       " (14, -9),\n",
       " (14, -8),\n",
       " (14, -7),\n",
       " (14, -6),\n",
       " (14, -5),\n",
       " (15, -9),\n",
       " (15, -8),\n",
       " (15, -7),\n",
       " (15, -6),\n",
       " (15, -5)}"
      ]
     },
     "execution_count": 72,
     "metadata": {},
     "output_type": "execute_result"
    }
   ],
   "source": [
    "s - tests_sols"
   ]
  },
  {
   "cell_type": "code",
   "execution_count": 61,
   "id": "cardiovascular-pierce",
   "metadata": {},
   "outputs": [
    {
     "data": {
      "text/plain": [
       "{(6, 0),\n",
       " (6, 1),\n",
       " (6, 2),\n",
       " (6, 3),\n",
       " (6, 4),\n",
       " (6, 5),\n",
       " (6, 6),\n",
       " (6, 7),\n",
       " (6, 8),\n",
       " (6, 9),\n",
       " (7, -1),\n",
       " (7, 0),\n",
       " (7, 1),\n",
       " (7, 2),\n",
       " (7, 3),\n",
       " (7, 4),\n",
       " (7, 5),\n",
       " (7, 6),\n",
       " (7, 7),\n",
       " (7, 8),\n",
       " (7, 9),\n",
       " (8, -2),\n",
       " (8, -1),\n",
       " (8, 0),\n",
       " (8, 1),\n",
       " (9, -2),\n",
       " (9, -1),\n",
       " (9, 0),\n",
       " (10, -2),\n",
       " (10, -1),\n",
       " (11, -4),\n",
       " (11, -3),\n",
       " (11, -2),\n",
       " (11, -1),\n",
       " (12, -4),\n",
       " (12, -3),\n",
       " (12, -2),\n",
       " (13, -4),\n",
       " (13, -3),\n",
       " (13, -2),\n",
       " (14, -4),\n",
       " (14, -3),\n",
       " (14, -2),\n",
       " (15, -4),\n",
       " (15, -3),\n",
       " (15, -2),\n",
       " (20, -10),\n",
       " (20, -9),\n",
       " (20, -8),\n",
       " (20, -7),\n",
       " (20, -6),\n",
       " (20, -5),\n",
       " (21, -10),\n",
       " (21, -9),\n",
       " (21, -8),\n",
       " (21, -7),\n",
       " (21, -6),\n",
       " (21, -5),\n",
       " (22, -10),\n",
       " (22, -9),\n",
       " (22, -8),\n",
       " (22, -7),\n",
       " (22, -6),\n",
       " (22, -5),\n",
       " (23, -10),\n",
       " (23, -9),\n",
       " (23, -8),\n",
       " (23, -7),\n",
       " (23, -6),\n",
       " (23, -5),\n",
       " (24, -10),\n",
       " (24, -9),\n",
       " (24, -8),\n",
       " (24, -7),\n",
       " (24, -6),\n",
       " (24, -5),\n",
       " (25, -10),\n",
       " (25, -9),\n",
       " (25, -8),\n",
       " (25, -7),\n",
       " (25, -6),\n",
       " (25, -5),\n",
       " (26, -10),\n",
       " (26, -9),\n",
       " (26, -8),\n",
       " (26, -7),\n",
       " (26, -6),\n",
       " (26, -5),\n",
       " (27, -10),\n",
       " (27, -9),\n",
       " (27, -8),\n",
       " (27, -7),\n",
       " (27, -6),\n",
       " (27, -5),\n",
       " (28, -10),\n",
       " (28, -9),\n",
       " (28, -8),\n",
       " (28, -7),\n",
       " (28, -6),\n",
       " (28, -5),\n",
       " (29, -10),\n",
       " (29, -9),\n",
       " (29, -8),\n",
       " (29, -7),\n",
       " (29, -6),\n",
       " (29, -5),\n",
       " (30, -10),\n",
       " (30, -9),\n",
       " (30, -8),\n",
       " (30, -7),\n",
       " (30, -6),\n",
       " (30, -5)}"
      ]
     },
     "execution_count": 61,
     "metadata": {},
     "output_type": "execute_result"
    }
   ],
   "source": [
    "tests_sols"
   ]
  },
  {
   "cell_type": "code",
   "execution_count": 53,
   "id": "anonymous-execution",
   "metadata": {},
   "outputs": [
    {
     "data": {
      "text/plain": [
       "{(6, 0),\n",
       " (6, 1),\n",
       " (6, 2),\n",
       " (7, -1),\n",
       " (7, 0),\n",
       " (7, 1),\n",
       " (7, 2),\n",
       " (8, -3),\n",
       " (8, -2),\n",
       " (8, -1),\n",
       " (8, 0),\n",
       " (8, 1),\n",
       " (9, -3),\n",
       " (9, -2),\n",
       " (9, -1),\n",
       " (9, 0),\n",
       " (10, -3),\n",
       " (10, -2),\n",
       " (10, -1),\n",
       " (11, -9),\n",
       " (11, -8),\n",
       " (11, -7),\n",
       " (11, -6),\n",
       " (11, -5),\n",
       " (11, -4),\n",
       " (11, -3),\n",
       " (11, -2),\n",
       " (11, -1),\n",
       " (12, -9),\n",
       " (12, -8),\n",
       " (12, -7),\n",
       " (12, -6),\n",
       " (12, -5),\n",
       " (12, -4),\n",
       " (13, -9),\n",
       " (13, -8),\n",
       " (13, -7),\n",
       " (13, -6),\n",
       " (13, -5),\n",
       " (13, -4),\n",
       " (14, -9),\n",
       " (14, -8),\n",
       " (14, -7),\n",
       " (14, -6),\n",
       " (14, -5),\n",
       " (14, -4),\n",
       " (15, -9),\n",
       " (15, -8),\n",
       " (15, -7),\n",
       " (15, -6),\n",
       " (15, -5),\n",
       " (15, -4)}"
      ]
     },
     "execution_count": 53,
     "metadata": {},
     "output_type": "execute_result"
    }
   ],
   "source": [
    "s"
   ]
  },
  {
   "cell_type": "code",
   "execution_count": null,
   "id": "quarterly-richardson",
   "metadata": {},
   "outputs": [],
   "source": [
    "valid_x_sims[0]"
   ]
  },
  {
   "cell_type": "code",
   "execution_count": null,
   "id": "satisfied-dallas",
   "metadata": {},
   "outputs": [],
   "source": [
    "len(valid_y_sims)"
   ]
  },
  {
   "cell_type": "code",
   "execution_count": null,
   "id": "residential-standard",
   "metadata": {},
   "outputs": [],
   "source": [
    "sim_y(max_init_y, (max_init_y - 1))"
   ]
  },
  {
   "cell_type": "markdown",
   "id": "neural-luxembourg",
   "metadata": {},
   "source": [
    "Hm, need to find all. That's ok.\n",
    "\n",
    "Do x and y separately, then combine."
   ]
  },
  {
   "cell_type": "code",
   "execution_count": null,
   "id": "crude-modem",
   "metadata": {},
   "outputs": [],
   "source": []
  },
  {
   "cell_type": "code",
   "execution_count": null,
   "id": "naval-boutique",
   "metadata": {},
   "outputs": [],
   "source": [
    "def find_init_y_range()"
   ]
  }
 ],
 "metadata": {
  "kernelspec": {
   "display_name": "Python 3",
   "language": "python",
   "name": "python3"
  },
  "language_info": {
   "codemirror_mode": {
    "name": "ipython",
    "version": 3
   },
   "file_extension": ".py",
   "mimetype": "text/x-python",
   "name": "python",
   "nbconvert_exporter": "python",
   "pygments_lexer": "ipython3",
   "version": "3.9.4"
  }
 },
 "nbformat": 4,
 "nbformat_minor": 5
}
