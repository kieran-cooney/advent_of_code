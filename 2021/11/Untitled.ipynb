{
 "cells": [
  {
   "cell_type": "code",
   "execution_count": 1,
   "id": "pharmaceutical-denmark",
   "metadata": {},
   "outputs": [],
   "source": [
    "import numpy as np"
   ]
  },
  {
   "cell_type": "code",
   "execution_count": 82,
   "id": "annual-barbados",
   "metadata": {},
   "outputs": [],
   "source": [
    "def parse_input(filepath):\n",
    "    with open(filepath, 'r') as f:\n",
    "        nums = [[int(x) for x in l.strip()] for l in f]\n",
    "    a = np.array(nums, dtype=np.uint8)\n",
    "\n",
    "    return a"
   ]
  },
  {
   "cell_type": "code",
   "execution_count": 83,
   "id": "national-fellowship",
   "metadata": {},
   "outputs": [],
   "source": [
    "a = parse_input('test_input.txt')"
   ]
  },
  {
   "cell_type": "code",
   "execution_count": 84,
   "id": "scenic-characteristic",
   "metadata": {},
   "outputs": [
    {
     "data": {
      "text/plain": [
       "array([[5, 4, 8, 3, 1, 4, 3, 2, 2, 3],\n",
       "       [2, 7, 4, 5, 8, 5, 4, 7, 1, 1],\n",
       "       [5, 2, 6, 4, 5, 5, 6, 1, 7, 3],\n",
       "       [6, 1, 4, 1, 3, 3, 6, 1, 4, 6],\n",
       "       [6, 3, 5, 7, 3, 8, 5, 4, 7, 8],\n",
       "       [4, 1, 6, 7, 5, 2, 4, 6, 4, 5],\n",
       "       [2, 1, 7, 6, 8, 4, 1, 7, 2, 1],\n",
       "       [6, 8, 8, 2, 8, 8, 1, 1, 3, 4],\n",
       "       [4, 8, 4, 6, 8, 4, 8, 5, 5, 4],\n",
       "       [5, 2, 8, 3, 7, 5, 1, 5, 2, 6]], dtype=uint8)"
      ]
     },
     "execution_count": 84,
     "metadata": {},
     "output_type": "execute_result"
    }
   ],
   "source": [
    "a"
   ]
  },
  {
   "cell_type": "code",
   "execution_count": 85,
   "id": "sporting-testament",
   "metadata": {},
   "outputs": [],
   "source": [
    "energies = a"
   ]
  },
  {
   "cell_type": "code",
   "execution_count": 86,
   "id": "american-flash",
   "metadata": {},
   "outputs": [],
   "source": [
    "def num_neighbours_flashed(flashed):\n",
    "    out =  (\n",
    "        flashed[0:-2, 1:-1] +\n",
    "        flashed[2:, 1:-1] +\n",
    "        flashed[1:-1, 0:-2] +\n",
    "        flashed[1:-1, 2:] +\n",
    "        flashed[0:-2, 0:-2] +\n",
    "        flashed[0:-2, 2:] +\n",
    "        flashed[2:, 0:-2] +\n",
    "        flashed[2:, 2:]\n",
    "    )\n",
    "\n",
    "    return out"
   ]
  },
  {
   "cell_type": "code",
   "execution_count": 106,
   "id": "disciplinary-rehabilitation",
   "metadata": {},
   "outputs": [],
   "source": [
    "def model_step(energies):\n",
    "    flashes = np.zeros(energies.shape, dtype=np.uint8)\n",
    "    flashed = np.pad(energies, 1, constant_values=0)\n",
    "\n",
    "    energies += 1\n",
    "    flashed[1:-1, 1:-1] = (energies > 9)\n",
    "    flashes += flashed[1:-1, 1:-1]\n",
    "    \n",
    "    while np.any(flashed):\n",
    "        neighbours_flashed = num_neighbours_flashed(flashed)\n",
    "        energies += neighbours_flashed\n",
    "        flashed[1:-1, 1:-1] = ((energies > 9) & (flashes == 0))\n",
    "        flashes += flashed[1:-1, 1:-1]\n",
    "\n",
    "    np.place(energies, (flashes > 0), 0)\n",
    "\n",
    "    return flashes"
   ]
  },
  {
   "cell_type": "code",
   "execution_count": 120,
   "id": "charged-creature",
   "metadata": {},
   "outputs": [],
   "source": [
    "def octopus_model(energies, steps):\n",
    "    work_energies = energies.copy()\n",
    "    num_flashes = np.zeros(energies.shape, dtype=np.uint8)\n",
    "    \n",
    "    for i in range(steps):\n",
    "        num_flashes += model_step(work_energies)\n",
    "\n",
    "    return work_energies, num_flashes"
   ]
  },
  {
   "cell_type": "code",
   "execution_count": 121,
   "id": "moving-albania",
   "metadata": {},
   "outputs": [],
   "source": [
    "from itertools import count"
   ]
  },
  {
   "cell_type": "code",
   "execution_count": 123,
   "id": "eastern-assets",
   "metadata": {},
   "outputs": [],
   "source": [
    "def first_synchronized_flash(energies):\n",
    "    work_energies = energies\n",
    "\n",
    "    for i in count(1):\n",
    "        if (np.all(model_step(work_energies) > 0)):\n",
    "            return i"
   ]
  },
  {
   "cell_type": "code",
   "execution_count": 125,
   "id": "cellular-composer",
   "metadata": {},
   "outputs": [
    {
     "data": {
      "text/plain": [
       "195"
      ]
     },
     "execution_count": 125,
     "metadata": {},
     "output_type": "execute_result"
    }
   ],
   "source": [
    "first_synchronized_flash(energies)"
   ]
  },
  {
   "cell_type": "code",
   "execution_count": 124,
   "id": "associate-starter",
   "metadata": {},
   "outputs": [
    {
     "data": {
      "text/plain": [
       "array([[5, 4, 8, 3, 1, 4, 3, 2, 2, 3],\n",
       "       [2, 7, 4, 5, 8, 5, 4, 7, 1, 1],\n",
       "       [5, 2, 6, 4, 5, 5, 6, 1, 7, 3],\n",
       "       [6, 1, 4, 1, 3, 3, 6, 1, 4, 6],\n",
       "       [6, 3, 5, 7, 3, 8, 5, 4, 7, 8],\n",
       "       [4, 1, 6, 7, 5, 2, 4, 6, 4, 5],\n",
       "       [2, 1, 7, 6, 8, 4, 1, 7, 2, 1],\n",
       "       [6, 8, 8, 2, 8, 8, 1, 1, 3, 4],\n",
       "       [4, 8, 4, 6, 8, 4, 8, 5, 5, 4],\n",
       "       [5, 2, 8, 3, 7, 5, 1, 5, 2, 6]], dtype=uint8)"
      ]
     },
     "execution_count": 124,
     "metadata": {},
     "output_type": "execute_result"
    }
   ],
   "source": [
    "energies"
   ]
  },
  {
   "cell_type": "code",
   "execution_count": 112,
   "id": "acceptable-hands",
   "metadata": {},
   "outputs": [],
   "source": [
    "out_energies, flashes = octopus_model(energies, 100)"
   ]
  },
  {
   "cell_type": "code",
   "execution_count": 113,
   "id": "built-malawi",
   "metadata": {},
   "outputs": [
    {
     "data": {
      "text/plain": [
       "array([[0, 3, 9, 7, 6, 6, 6, 8, 6, 6],\n",
       "       [0, 7, 4, 9, 7, 6, 6, 9, 1, 8],\n",
       "       [0, 0, 5, 3, 9, 7, 6, 9, 3, 3],\n",
       "       [0, 0, 0, 4, 2, 9, 7, 8, 2, 2],\n",
       "       [0, 0, 0, 4, 2, 2, 9, 8, 9, 2],\n",
       "       [0, 0, 5, 3, 2, 2, 2, 8, 7, 7],\n",
       "       [0, 5, 3, 2, 2, 2, 2, 9, 6, 6],\n",
       "       [9, 3, 2, 2, 2, 2, 8, 9, 6, 6],\n",
       "       [7, 9, 2, 2, 2, 8, 6, 8, 6, 6],\n",
       "       [6, 7, 8, 9, 9, 9, 8, 7, 6, 6]], dtype=uint8)"
      ]
     },
     "execution_count": 113,
     "metadata": {},
     "output_type": "execute_result"
    }
   ],
   "source": [
    "out_energies"
   ]
  },
  {
   "cell_type": "code",
   "execution_count": 114,
   "id": "working-pipeline",
   "metadata": {},
   "outputs": [
    {
     "data": {
      "text/plain": [
       "array([[15, 17, 17, 16, 16, 16, 16, 16, 15, 14],\n",
       "       [17, 19, 17, 16, 17, 16, 16, 17, 20, 15],\n",
       "       [17, 17, 17, 17, 16, 16, 16, 16, 18, 17],\n",
       "       [17, 17, 18, 17, 17, 16, 16, 16, 18, 17],\n",
       "       [17, 17, 18, 22, 17, 18, 16, 16, 17, 17],\n",
       "       [17, 17, 18, 17, 17, 17, 17, 16, 16, 16],\n",
       "       [17, 17, 17, 17, 17, 17, 17, 16, 16, 16],\n",
       "       [15, 17, 17, 17, 17, 17, 17, 19, 17, 15],\n",
       "       [14, 15, 17, 17, 17, 17, 18, 18, 15, 15],\n",
       "       [14, 14, 15, 16, 16, 16, 16, 15, 15, 14]], dtype=uint8)"
      ]
     },
     "execution_count": 114,
     "metadata": {},
     "output_type": "execute_result"
    }
   ],
   "source": [
    "flashes"
   ]
  },
  {
   "cell_type": "code",
   "execution_count": 115,
   "id": "constitutional-spanking",
   "metadata": {},
   "outputs": [
    {
     "data": {
      "text/plain": [
       "1656"
      ]
     },
     "execution_count": 115,
     "metadata": {},
     "output_type": "execute_result"
    }
   ],
   "source": [
    "flashes.sum()"
   ]
  },
  {
   "cell_type": "code",
   "execution_count": 49,
   "id": "objective-beauty",
   "metadata": {},
   "outputs": [],
   "source": [
    "flashes = model_step(energies)"
   ]
  },
  {
   "cell_type": "code",
   "execution_count": 96,
   "id": "jewish-sphere",
   "metadata": {},
   "outputs": [],
   "source": [
    "test = parse_input('small_test_input.txt')"
   ]
  },
  {
   "cell_type": "code",
   "execution_count": 97,
   "id": "private-strap",
   "metadata": {},
   "outputs": [
    {
     "data": {
      "text/plain": [
       "array([[1, 1, 1, 1, 1],\n",
       "       [1, 9, 9, 9, 1],\n",
       "       [1, 9, 1, 9, 1],\n",
       "       [1, 9, 9, 9, 1],\n",
       "       [1, 1, 1, 1, 1]], dtype=uint8)"
      ]
     },
     "execution_count": 97,
     "metadata": {},
     "output_type": "execute_result"
    }
   ],
   "source": [
    "test"
   ]
  },
  {
   "cell_type": "code",
   "execution_count": 98,
   "id": "offensive-freedom",
   "metadata": {},
   "outputs": [],
   "source": [
    "out_test, test_flashes = octopus_model(test, 2)"
   ]
  },
  {
   "cell_type": "code",
   "execution_count": 99,
   "id": "cleared-pressure",
   "metadata": {},
   "outputs": [
    {
     "data": {
      "text/plain": [
       "array([[4, 5, 6, 5, 4],\n",
       "       [5, 1, 1, 1, 5],\n",
       "       [6, 1, 1, 1, 6],\n",
       "       [5, 1, 1, 1, 5],\n",
       "       [4, 5, 6, 5, 4]], dtype=uint8)"
      ]
     },
     "execution_count": 99,
     "metadata": {},
     "output_type": "execute_result"
    }
   ],
   "source": [
    "out_test"
   ]
  },
  {
   "cell_type": "code",
   "execution_count": 100,
   "id": "increasing-forth",
   "metadata": {},
   "outputs": [
    {
     "data": {
      "text/plain": [
       "array([[0, 0, 0, 0, 0],\n",
       "       [0, 1, 1, 1, 0],\n",
       "       [0, 1, 1, 1, 0],\n",
       "       [0, 1, 1, 1, 0],\n",
       "       [0, 0, 0, 0, 0]], dtype=uint8)"
      ]
     },
     "execution_count": 100,
     "metadata": {},
     "output_type": "execute_result"
    }
   ],
   "source": [
    "test_flashes"
   ]
  },
  {
   "cell_type": "code",
   "execution_count": 116,
   "id": "neither-raleigh",
   "metadata": {},
   "outputs": [],
   "source": [
    "actual = parse_input('input.txt')"
   ]
  },
  {
   "cell_type": "code",
   "execution_count": 117,
   "id": "defined-contributor",
   "metadata": {},
   "outputs": [
    {
     "data": {
      "text/plain": [
       "array([[2, 4, 7, 8, 6, 6, 8, 3, 2, 4],\n",
       "       [4, 2, 8, 3, 4, 7, 4, 1, 2, 5],\n",
       "       [1, 6, 6, 3, 4, 6, 3, 3, 7, 4],\n",
       "       [1, 7, 3, 8, 2, 7, 1, 3, 2, 3],\n",
       "       [4, 2, 8, 5, 7, 4, 4, 8, 6, 1],\n",
       "       [3, 5, 5, 1, 3, 1, 1, 5, 1, 5],\n",
       "       [8, 5, 7, 4, 3, 3, 5, 4, 3, 8],\n",
       "       [7, 8, 4, 3, 5, 2, 5, 8, 2, 6],\n",
       "       [1, 3, 6, 6, 2, 3, 7, 5, 7, 7],\n",
       "       [3, 5, 5, 4, 6, 8, 7, 2, 2, 6]], dtype=uint8)"
      ]
     },
     "execution_count": 117,
     "metadata": {},
     "output_type": "execute_result"
    }
   ],
   "source": [
    "actual"
   ]
  },
  {
   "cell_type": "code",
   "execution_count": 119,
   "id": "lesser-narrative",
   "metadata": {},
   "outputs": [
    {
     "data": {
      "text/plain": [
       "1700"
      ]
     },
     "execution_count": 119,
     "metadata": {},
     "output_type": "execute_result"
    }
   ],
   "source": [
    "(octopus_model(actual, 100)[1]).sum()"
   ]
  },
  {
   "cell_type": "code",
   "execution_count": 126,
   "id": "arctic-mortality",
   "metadata": {},
   "outputs": [
    {
     "data": {
      "text/plain": [
       "273"
      ]
     },
     "execution_count": 126,
     "metadata": {},
     "output_type": "execute_result"
    }
   ],
   "source": [
    "first_synchronized_flash(actual)"
   ]
  },
  {
   "cell_type": "code",
   "execution_count": null,
   "id": "ranking-toddler",
   "metadata": {},
   "outputs": [],
   "source": []
  }
 ],
 "metadata": {
  "kernelspec": {
   "display_name": "Python 3",
   "language": "python",
   "name": "python3"
  },
  "language_info": {
   "codemirror_mode": {
    "name": "ipython",
    "version": 3
   },
   "file_extension": ".py",
   "mimetype": "text/x-python",
   "name": "python",
   "nbconvert_exporter": "python",
   "pygments_lexer": "ipython3",
   "version": "3.9.4"
  }
 },
 "nbformat": 4,
 "nbformat_minor": 5
}
