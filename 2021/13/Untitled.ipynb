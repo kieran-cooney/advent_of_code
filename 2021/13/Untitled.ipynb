{
 "cells": [
  {
   "cell_type": "code",
   "execution_count": 1,
   "id": "southern-diamond",
   "metadata": {},
   "outputs": [],
   "source": [
    "import re"
   ]
  },
  {
   "cell_type": "code",
   "execution_count": 9,
   "id": "described-branch",
   "metadata": {},
   "outputs": [],
   "source": [
    "DOT_PATTERN = re.compile(r\"^(\\d+),(\\d+)$\")\n",
    "FOLD_PATTERN = re.compile(r\"^fold along ([xy])=(\\d+)$\")"
   ]
  },
  {
   "cell_type": "code",
   "execution_count": 13,
   "id": "spare-syndication",
   "metadata": {},
   "outputs": [],
   "source": [
    "def parse_input(filepath):\n",
    "    dots = list()\n",
    "    folds = list()\n",
    "    with open(filepath, 'r') as f:\n",
    "        line = next(f)\n",
    "        while not line.isspace():\n",
    "            x, y = DOT_PATTERN.match(line).groups()\n",
    "            dots.append((int(x), int(y)))\n",
    "            line = next(f)\n",
    "        \n",
    "        for line in f:\n",
    "            axis, n = FOLD_PATTERN.match(line).groups()\n",
    "            folds.append((axis, int(n)))\n",
    "    \n",
    "    return dots, folds"
   ]
  },
  {
   "cell_type": "code",
   "execution_count": 4,
   "id": "rapid-bridal",
   "metadata": {},
   "outputs": [],
   "source": [
    "l=[1,2,3]"
   ]
  },
  {
   "cell_type": "code",
   "execution_count": 5,
   "id": "macro-removal",
   "metadata": {},
   "outputs": [],
   "source": [
    "l.append(4)"
   ]
  },
  {
   "cell_type": "code",
   "execution_count": 6,
   "id": "wrong-payment",
   "metadata": {},
   "outputs": [
    {
     "data": {
      "text/plain": [
       "[1, 2, 3, 4]"
      ]
     },
     "execution_count": 6,
     "metadata": {},
     "output_type": "execute_result"
    }
   ],
   "source": [
    "l"
   ]
  },
  {
   "cell_type": "code",
   "execution_count": 14,
   "id": "complicated-trouble",
   "metadata": {},
   "outputs": [],
   "source": [
    "dots, folds = parse_input('test_input.txt')"
   ]
  },
  {
   "cell_type": "code",
   "execution_count": 15,
   "id": "metallic-blend",
   "metadata": {},
   "outputs": [
    {
     "data": {
      "text/plain": [
       "[(6, 10),\n",
       " (0, 14),\n",
       " (9, 10),\n",
       " (0, 3),\n",
       " (10, 4),\n",
       " (4, 11),\n",
       " (6, 0),\n",
       " (6, 12),\n",
       " (4, 1),\n",
       " (0, 13),\n",
       " (10, 12),\n",
       " (3, 4),\n",
       " (3, 0),\n",
       " (8, 4),\n",
       " (1, 10),\n",
       " (2, 14),\n",
       " (8, 10),\n",
       " (9, 0)]"
      ]
     },
     "execution_count": 15,
     "metadata": {},
     "output_type": "execute_result"
    }
   ],
   "source": [
    "dots"
   ]
  },
  {
   "cell_type": "code",
   "execution_count": 16,
   "id": "corresponding-steam",
   "metadata": {},
   "outputs": [
    {
     "data": {
      "text/plain": [
       "[('y', 7), ('x', 5)]"
      ]
     },
     "execution_count": 16,
     "metadata": {},
     "output_type": "execute_result"
    }
   ],
   "source": [
    "folds"
   ]
  },
  {
   "cell_type": "code",
   "execution_count": null,
   "id": "dried-thread",
   "metadata": {},
   "outputs": [],
   "source": [
    "def fold_dot(dot, fold):\n",
    "    x, y = dot\n",
    "    axis, n = fold\n",
    "    if axis == 'x':\n",
    "        return (x, 2*n - 7)\n",
    "    elif axis == 'y':"
   ]
  }
 ],
 "metadata": {
  "kernelspec": {
   "display_name": "Python 3",
   "language": "python",
   "name": "python3"
  },
  "language_info": {
   "codemirror_mode": {
    "name": "ipython",
    "version": 3
   },
   "file_extension": ".py",
   "mimetype": "text/x-python",
   "name": "python",
   "nbconvert_exporter": "python",
   "pygments_lexer": "ipython3",
   "version": "3.9.4"
  }
 },
 "nbformat": 4,
 "nbformat_minor": 5
}
