{
 "cells": [
  {
   "cell_type": "code",
   "execution_count": 50,
   "metadata": {},
   "outputs": [],
   "source": [
    "import re\n",
    "import numpy as np\n",
    "import matplotlib.pyplot as plt"
   ]
  },
  {
   "cell_type": "code",
   "execution_count": 2,
   "metadata": {},
   "outputs": [],
   "source": [
    "DOT_PATTERN = re.compile(r\"^(\\d+),(\\d+)$\")\n",
    "FOLD_PATTERN = re.compile(r\"^fold along ([xy])=(\\d+)$\")"
   ]
  },
  {
   "cell_type": "code",
   "execution_count": 3,
   "metadata": {},
   "outputs": [],
   "source": [
    "def parse_input(filepath):\n",
    "    dots = list()\n",
    "    folds = list()\n",
    "    with open(filepath, 'r') as f:\n",
    "        line = next(f)\n",
    "        while not line.isspace():\n",
    "            x, y = DOT_PATTERN.match(line).groups()\n",
    "            dots.append((int(x), int(y)))\n",
    "            line = next(f)\n",
    "        \n",
    "        for line in f:\n",
    "            axis, n = FOLD_PATTERN.match(line).groups()\n",
    "            folds.append((axis, int(n)))\n",
    "    \n",
    "    return dots, folds"
   ]
  },
  {
   "cell_type": "code",
   "execution_count": 4,
   "metadata": {},
   "outputs": [],
   "source": [
    "l=[1,2,3]"
   ]
  },
  {
   "cell_type": "code",
   "execution_count": 5,
   "metadata": {},
   "outputs": [],
   "source": [
    "l.append(4)"
   ]
  },
  {
   "cell_type": "code",
   "execution_count": 6,
   "metadata": {},
   "outputs": [
    {
     "data": {
      "text/plain": [
       "[1, 2, 3, 4]"
      ]
     },
     "execution_count": 6,
     "metadata": {},
     "output_type": "execute_result"
    }
   ],
   "source": [
    "l"
   ]
  },
  {
   "cell_type": "code",
   "execution_count": 126,
   "metadata": {},
   "outputs": [],
   "source": [
    "dots, folds = parse_input('input.txt')"
   ]
  },
  {
   "cell_type": "code",
   "execution_count": 116,
   "metadata": {},
   "outputs": [
    {
     "data": {
      "text/plain": [
       "[(6, 10),\n",
       " (0, 14),\n",
       " (9, 10),\n",
       " (0, 3),\n",
       " (10, 4),\n",
       " (4, 11),\n",
       " (6, 0),\n",
       " (6, 12),\n",
       " (4, 1),\n",
       " (0, 13),\n",
       " (10, 12),\n",
       " (3, 4),\n",
       " (3, 0),\n",
       " (8, 4),\n",
       " (1, 10),\n",
       " (2, 14),\n",
       " (8, 10),\n",
       " (9, 0)]"
      ]
     },
     "execution_count": 116,
     "metadata": {},
     "output_type": "execute_result"
    }
   ],
   "source": [
    "dots"
   ]
  },
  {
   "cell_type": "code",
   "execution_count": 117,
   "metadata": {},
   "outputs": [
    {
     "data": {
      "text/plain": [
       "[('y', 7), ('x', 5)]"
      ]
     },
     "execution_count": 117,
     "metadata": {},
     "output_type": "execute_result"
    }
   ],
   "source": [
    "folds"
   ]
  },
  {
   "cell_type": "code",
   "execution_count": 118,
   "metadata": {},
   "outputs": [],
   "source": [
    "def fold_1d(loc, fold):\n",
    "    if loc <= fold:\n",
    "        return loc\n",
    "    else:\n",
    "        return (2*fold) - loc"
   ]
  },
  {
   "cell_type": "code",
   "execution_count": 119,
   "metadata": {},
   "outputs": [],
   "source": [
    "def fold_dot(dot, fold):\n",
    "    x, y = dot\n",
    "    axis, n = fold\n",
    "    if axis == 'x':\n",
    "        return (fold_1d(x, n), y)\n",
    "    elif axis == 'y':\n",
    "        return (x, fold_1d(y, n))"
   ]
  },
  {
   "cell_type": "code",
   "execution_count": 134,
   "metadata": {},
   "outputs": [
    {
     "data": {
      "text/plain": [
       "3"
      ]
     },
     "execution_count": 134,
     "metadata": {},
     "output_type": "execute_result"
    }
   ],
   "source": [
    "[1,2,3].pop()"
   ]
  },
  {
   "cell_type": "code",
   "execution_count": 120,
   "metadata": {},
   "outputs": [],
   "source": [
    "folded_dots = {fold_dot(d, folds[0]) for d in dots}"
   ]
  },
  {
   "cell_type": "code",
   "execution_count": 110,
   "metadata": {},
   "outputs": [
    {
     "data": {
      "text/plain": [
       "('y', 7)"
      ]
     },
     "execution_count": 110,
     "metadata": {},
     "output_type": "execute_result"
    }
   ],
   "source": [
    "folds[0]"
   ]
  },
  {
   "cell_type": "code",
   "execution_count": 113,
   "metadata": {},
   "outputs": [
    {
     "data": {
      "text/plain": [
       "((0, 14), (0, 14))"
      ]
     },
     "execution_count": 113,
     "metadata": {},
     "output_type": "execute_result"
    }
   ],
   "source": [
    "i=1\n",
    "dots[i], fold_dot(dots[i], folds[i])"
   ]
  },
  {
   "cell_type": "code",
   "execution_count": 121,
   "metadata": {},
   "outputs": [
    {
     "name": "stdout",
     "output_type": "stream",
     "text": [
      "...#.........##\n",
      "..........#....\n",
      "..............#\n",
      "#...#..........\n",
      ".#.........#...\n",
      "...............\n",
      "#.........#.#..\n",
      "...............\n",
      "....#.....#....\n",
      "#.........#....\n",
      "....#.......#..\n"
     ]
    }
   ],
   "source": [
    "print_dots_array(get_dots_array(dots))"
   ]
  },
  {
   "cell_type": "code",
   "execution_count": 122,
   "metadata": {},
   "outputs": [
    {
     "name": "stdout",
     "output_type": "stream",
     "text": [
      "##.#.\n",
      "....#\n",
      "#....\n",
      "#...#\n",
      ".#.#.\n",
      ".....\n",
      "#.#.#\n",
      ".....\n",
      "....#\n",
      "#...#\n",
      "..#.#\n"
     ]
    }
   ],
   "source": [
    "print_dots_array(get_dots_array(folded_dots))"
   ]
  },
  {
   "cell_type": "code",
   "execution_count": 86,
   "metadata": {},
   "outputs": [
    {
     "data": {
      "text/plain": [
       "18"
      ]
     },
     "execution_count": 86,
     "metadata": {},
     "output_type": "execute_result"
    }
   ],
   "source": [
    "len(dots)"
   ]
  },
  {
   "cell_type": "code",
   "execution_count": 87,
   "metadata": {},
   "outputs": [
    {
     "data": {
      "text/plain": [
       "2"
      ]
     },
     "execution_count": 87,
     "metadata": {},
     "output_type": "execute_result"
    }
   ],
   "source": [
    "len(folds)"
   ]
  },
  {
   "cell_type": "code",
   "execution_count": 88,
   "metadata": {},
   "outputs": [
    {
     "data": {
      "text/plain": [
       "9"
      ]
     },
     "execution_count": 88,
     "metadata": {},
     "output_type": "execute_result"
    }
   ],
   "source": [
    "len(folded_dots)"
   ]
  },
  {
   "cell_type": "code",
   "execution_count": 73,
   "metadata": {},
   "outputs": [],
   "source": [
    "def fold_dots(dots, fold):\n",
    "    return {fold_dot(d, fold) for d in dots}"
   ]
  },
  {
   "cell_type": "code",
   "execution_count": 74,
   "metadata": {},
   "outputs": [],
   "source": [
    "def apply_all_folds(dots, folds):\n",
    "    for fold in folds:\n",
    "        dots = fold_dots(dots, fold)\n",
    "    return dots"
   ]
  },
  {
   "cell_type": "code",
   "execution_count": 127,
   "metadata": {},
   "outputs": [],
   "source": [
    "folded_dots = apply_all_folds(dots, folds)"
   ]
  },
  {
   "cell_type": "code",
   "execution_count": 76,
   "metadata": {},
   "outputs": [
    {
     "data": {
      "text/plain": [
       "9"
      ]
     },
     "execution_count": 76,
     "metadata": {},
     "output_type": "execute_result"
    }
   ],
   "source": [
    "len(folded_dots)"
   ]
  },
  {
   "cell_type": "code",
   "execution_count": 128,
   "metadata": {},
   "outputs": [
    {
     "data": {
      "text/plain": [
       "{(0, 1),\n",
       " (0, 2),\n",
       " (0, 3),\n",
       " (0, 4),\n",
       " (0, 5),\n",
       " (1, 0),\n",
       " (1, 3),\n",
       " (2, 0),\n",
       " (2, 3),\n",
       " (3, 1),\n",
       " (3, 2),\n",
       " (3, 3),\n",
       " (3, 4),\n",
       " (3, 5),\n",
       " (5, 0),\n",
       " (5, 1),\n",
       " (5, 2),\n",
       " (5, 3),\n",
       " (5, 4),\n",
       " (5, 5),\n",
       " (6, 0),\n",
       " (6, 3),\n",
       " (7, 0),\n",
       " (7, 3),\n",
       " (7, 4),\n",
       " (8, 1),\n",
       " (8, 2),\n",
       " (8, 5),\n",
       " (10, 0),\n",
       " (10, 1),\n",
       " (10, 2),\n",
       " (10, 3),\n",
       " (10, 4),\n",
       " (10, 5),\n",
       " (11, 2),\n",
       " (12, 2),\n",
       " (13, 0),\n",
       " (13, 1),\n",
       " (13, 2),\n",
       " (13, 3),\n",
       " (13, 4),\n",
       " (13, 5),\n",
       " (15, 0),\n",
       " (15, 4),\n",
       " (15, 5),\n",
       " (16, 0),\n",
       " (16, 3),\n",
       " (16, 5),\n",
       " (17, 0),\n",
       " (17, 2),\n",
       " (17, 5),\n",
       " (18, 0),\n",
       " (18, 1),\n",
       " (18, 5),\n",
       " (20, 0),\n",
       " (20, 1),\n",
       " (20, 2),\n",
       " (20, 3),\n",
       " (20, 4),\n",
       " (20, 5),\n",
       " (21, 0),\n",
       " (21, 3),\n",
       " (22, 0),\n",
       " (22, 3),\n",
       " (23, 1),\n",
       " (23, 2),\n",
       " (25, 1),\n",
       " (25, 2),\n",
       " (25, 3),\n",
       " (25, 4),\n",
       " (26, 0),\n",
       " (26, 5),\n",
       " (27, 0),\n",
       " (27, 5),\n",
       " (28, 1),\n",
       " (28, 4),\n",
       " (30, 0),\n",
       " (30, 1),\n",
       " (30, 2),\n",
       " (30, 3),\n",
       " (30, 4),\n",
       " (31, 5),\n",
       " (32, 5),\n",
       " (33, 0),\n",
       " (33, 1),\n",
       " (33, 2),\n",
       " (33, 3),\n",
       " (33, 4),\n",
       " (35, 0),\n",
       " (35, 1),\n",
       " (35, 2),\n",
       " (35, 3),\n",
       " (35, 4),\n",
       " (35, 5),\n",
       " (36, 2),\n",
       " (37, 2),\n",
       " (38, 0),\n",
       " (38, 1),\n",
       " (38, 2),\n",
       " (38, 3),\n",
       " (38, 4),\n",
       " (38, 5)}"
      ]
     },
     "execution_count": 128,
     "metadata": {},
     "output_type": "execute_result"
    }
   ],
   "source": [
    "folded_dots"
   ]
  },
  {
   "cell_type": "code",
   "execution_count": 131,
   "metadata": {},
   "outputs": [],
   "source": [
    "def get_dots_array(dots):\n",
    "    max_x = max(x for x, _ in dots)\n",
    "    max_y = max(y for _, y in dots)\n",
    "    \n",
    "    a = np.zeros((max_y+1, max_x+1), dtype=bool)\n",
    "\n",
    "    for x, y in dots:\n",
    "        a[y, x] = True\n",
    "    \n",
    "    return a"
   ]
  },
  {
   "cell_type": "code",
   "execution_count": 132,
   "metadata": {},
   "outputs": [],
   "source": [
    "a = get_dots_array(folded_dots)"
   ]
  },
  {
   "cell_type": "code",
   "execution_count": 100,
   "metadata": {},
   "outputs": [],
   "source": [
    "def print_dots_array(a):\n",
    "    for line in a:\n",
    "        s = ''.join('#' if e else '.' for e in line)\n",
    "        print(s)\n",
    "    return"
   ]
  },
  {
   "cell_type": "code",
   "execution_count": 133,
   "metadata": {},
   "outputs": [
    {
     "name": "stdout",
     "output_type": "stream",
     "text": [
      ".##..###..#..#.####.###...##..#..#.#..#\n",
      "#..#.#..#.#..#....#.#..#.#..#.#..#.#..#\n",
      "#..#.#..#.####...#..#..#.#....#..#.####\n",
      "####.###..#..#..#...###..#....#..#.#..#\n",
      "#..#.#.#..#..#.#....#....#..#.#..#.#..#\n",
      "#..#.#..#.#..#.####.#.....##...##..#..#\n"
     ]
    }
   ],
   "source": [
    "print_dots_array(a)"
   ]
  },
  {
   "cell_type": "code",
   "execution_count": null,
   "metadata": {},
   "outputs": [],
   "source": []
  }
 ],
 "metadata": {
  "kernelspec": {
   "display_name": "Python 3",
   "language": "python",
   "name": "python3"
  },
  "language_info": {
   "codemirror_mode": {
    "name": "ipython",
    "version": 3
   },
   "file_extension": ".py",
   "mimetype": "text/x-python",
   "name": "python",
   "nbconvert_exporter": "python",
   "pygments_lexer": "ipython3",
   "version": "3.8.5"
  }
 },
 "nbformat": 4,
 "nbformat_minor": 5
}
