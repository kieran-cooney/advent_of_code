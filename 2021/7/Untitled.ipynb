{
 "cells": [
  {
   "cell_type": "code",
   "execution_count": 1,
   "id": "coastal-robinson",
   "metadata": {},
   "outputs": [],
   "source": [
    "def parse_input(filepath):\n",
    "    with open(filepath, 'r') as f:\n",
    "        out = [int(x) for x in next(f).split(',')]\n",
    "    return out"
   ]
  },
  {
   "cell_type": "code",
   "execution_count": 9,
   "id": "organized-notice",
   "metadata": {},
   "outputs": [],
   "source": [
    "inputs = parse_input('input.txt')"
   ]
  },
  {
   "cell_type": "code",
   "execution_count": 11,
   "id": "twenty-committee",
   "metadata": {},
   "outputs": [
    {
     "data": {
      "text/plain": [
       "[1101, 1, 29, 67, 1102, 0, 1, 65, 1008, 65]"
      ]
     },
     "execution_count": 11,
     "metadata": {},
     "output_type": "execute_result"
    }
   ],
   "source": [
    "inputs[:10]"
   ]
  },
  {
   "cell_type": "code",
   "execution_count": 12,
   "id": "moral-tuition",
   "metadata": {},
   "outputs": [],
   "source": [
    "sorted_inputs = sorted(inputs)"
   ]
  },
  {
   "cell_type": "code",
   "execution_count": 14,
   "id": "collective-tolerance",
   "metadata": {},
   "outputs": [
    {
     "data": {
      "text/plain": [
       "[0, 0, 0, 0, 0, 0, 0, 0, 0, 0]"
      ]
     },
     "execution_count": 14,
     "metadata": {},
     "output_type": "execute_result"
    }
   ],
   "source": [
    "sorted_inputs[:10]"
   ]
  },
  {
   "cell_type": "code",
   "execution_count": 16,
   "id": "powerful-present",
   "metadata": {},
   "outputs": [],
   "source": [
    "n = len(sorted_inputs)"
   ]
  },
  {
   "cell_type": "code",
   "execution_count": 17,
   "id": "wooden-copper",
   "metadata": {},
   "outputs": [
    {
     "data": {
      "text/plain": [
       "1000"
      ]
     },
     "execution_count": 17,
     "metadata": {},
     "output_type": "execute_result"
    }
   ],
   "source": [
    "n"
   ]
  },
  {
   "cell_type": "code",
   "execution_count": 20,
   "id": "continuous-stanley",
   "metadata": {},
   "outputs": [
    {
     "data": {
      "text/plain": [
       "(344, 344)"
      ]
     },
     "execution_count": 20,
     "metadata": {},
     "output_type": "execute_result"
    }
   ],
   "source": [
    "sorted_inputs[(n//2)-1], sorted_inputs[n//2]"
   ]
  },
  {
   "cell_type": "code",
   "execution_count": 21,
   "id": "biological-incidence",
   "metadata": {},
   "outputs": [],
   "source": [
    "from collections import Counter"
   ]
  },
  {
   "cell_type": "code",
   "execution_count": 22,
   "id": "unlike-friendship",
   "metadata": {},
   "outputs": [],
   "source": [
    "c = Counter(sorted_inputs)"
   ]
  },
  {
   "cell_type": "code",
   "execution_count": 23,
   "id": "assisted-inside",
   "metadata": {},
   "outputs": [],
   "source": [
    "def abs_error(c, x):\n",
    "    return sum(v*abs(k-x) for k, v in c.items())"
   ]
  },
  {
   "cell_type": "code",
   "execution_count": 39,
   "id": "appointed-console",
   "metadata": {},
   "outputs": [],
   "source": [
    "def int_sum(i):\n",
    "    return (i*(i+1))//2"
   ]
  },
  {
   "cell_type": "code",
   "execution_count": 41,
   "id": "banner-poultry",
   "metadata": {},
   "outputs": [],
   "source": [
    "def sq_error(c, x):\n",
    "    return sum(v*int_sum(abs(k-x)) for k, v in c.items())"
   ]
  },
  {
   "cell_type": "code",
   "execution_count": 36,
   "id": "affected-fundamental",
   "metadata": {},
   "outputs": [],
   "source": [
    "errors = [(k, abs_error(c, k)) for k in range(-1000, 370)]"
   ]
  },
  {
   "cell_type": "code",
   "execution_count": 42,
   "id": "presidential-disco",
   "metadata": {},
   "outputs": [
    {
     "data": {
      "text/plain": [
       "483.553"
      ]
     },
     "execution_count": 42,
     "metadata": {},
     "output_type": "execute_result"
    }
   ],
   "source": [
    "sum(sorted_inputs)/(len(sorted_inputs))"
   ]
  },
  {
   "cell_type": "code",
   "execution_count": 43,
   "id": "naval-duration",
   "metadata": {},
   "outputs": [],
   "source": [
    "esq_rrors = [(k, sq_error(c, k)) for k in range(300, 600)]"
   ]
  },
  {
   "cell_type": "code",
   "execution_count": 44,
   "id": "exterior-processor",
   "metadata": {},
   "outputs": [
    {
     "data": {
      "text/plain": [
       "(483, 102245489)"
      ]
     },
     "execution_count": 44,
     "metadata": {},
     "output_type": "execute_result"
    }
   ],
   "source": [
    "min(esq_rrors, key=lambda p: p[1])"
   ]
  },
  {
   "cell_type": "code",
   "execution_count": 25,
   "id": "isolated-brother",
   "metadata": {},
   "outputs": [
    {
     "data": {
      "text/plain": [
       "[(330, 356165),\n",
       " (331, 356137),\n",
       " (332, 356109),\n",
       " (333, 356085),\n",
       " (334, 356063),\n",
       " (335, 356047),\n",
       " (336, 356035),\n",
       " (337, 356027),\n",
       " (338, 356019),\n",
       " (339, 356011),\n",
       " (340, 356005),\n",
       " (341, 355999),\n",
       " (342, 355995),\n",
       " (343, 355991),\n",
       " (344, 355989),\n",
       " (345, 355991),\n",
       " (346, 355993),\n",
       " (347, 355995),\n",
       " (348, 355999),\n",
       " (349, 356005),\n",
       " (350, 356013),\n",
       " (351, 356025),\n",
       " (352, 356039),\n",
       " (353, 356055),\n",
       " (354, 356071),\n",
       " (355, 356087),\n",
       " (356, 356103),\n",
       " (357, 356127),\n",
       " (358, 356153),\n",
       " (359, 356181),\n",
       " (360, 356209),\n",
       " (361, 356239),\n",
       " (362, 356269),\n",
       " (363, 356301),\n",
       " (364, 356335),\n",
       " (365, 356371),\n",
       " (366, 356407),\n",
       " (367, 356443),\n",
       " (368, 356479),\n",
       " (369, 356517)]"
      ]
     },
     "execution_count": 25,
     "metadata": {},
     "output_type": "execute_result"
    }
   ],
   "source": [
    "errors"
   ]
  },
  {
   "cell_type": "code",
   "execution_count": null,
   "id": "bacterial-accident",
   "metadata": {},
   "outputs": [],
   "source": []
  }
 ],
 "metadata": {
  "kernelspec": {
   "display_name": "Python 3",
   "language": "python",
   "name": "python3"
  },
  "language_info": {
   "codemirror_mode": {
    "name": "ipython",
    "version": 3
   },
   "file_extension": ".py",
   "mimetype": "text/x-python",
   "name": "python",
   "nbconvert_exporter": "python",
   "pygments_lexer": "ipython3",
   "version": "3.9.4"
  }
 },
 "nbformat": 4,
 "nbformat_minor": 5
}
