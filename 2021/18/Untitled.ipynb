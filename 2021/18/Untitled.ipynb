{
 "cells": [
  {
   "cell_type": "code",
   "execution_count": 65,
   "id": "alpine-heaven",
   "metadata": {},
   "outputs": [],
   "source": [
    "from ast import literal_eval"
   ]
  },
  {
   "cell_type": "code",
   "execution_count": 67,
   "id": "narrow-intersection",
   "metadata": {},
   "outputs": [],
   "source": [
    "test_input = '[[[[[4,3],4],4],[7,[[8,4],9]]],[1,1]]'"
   ]
  },
  {
   "cell_type": "code",
   "execution_count": 68,
   "id": "timely-constraint",
   "metadata": {},
   "outputs": [],
   "source": [
    "l = literal_eval(test_input)"
   ]
  },
  {
   "cell_type": "code",
   "execution_count": 54,
   "id": "genuine-record",
   "metadata": {},
   "outputs": [],
   "source": [
    "class RegularNumber():\n",
    "    def __init__(self, value):\n",
    "         self.value = value\n",
    "    \n",
    "    def __repr__(self):\n",
    "        return self.value.__repr__()\n",
    "    \n",
    "    def __add__(self, other):\n",
    "        if isinstance(other, RegularNumber):\n",
    "            return RegularNumber(self.value + other.value)\n",
    "        elif isinstance(other, int):\n",
    "            return RegularNumber(self.value + other)\n",
    "        else:\n",
    "            raise TypeError(\"Invalid type {} for other\".format(type(other)))\n",
    "\n",
    "    def __iadd__(self, other):\n",
    "        if isinstance(other, RegularNumber):\n",
    "            self.value += other.value\n",
    "            return self\n",
    "        elif isinstance(other, int):\n",
    "            self.value += other\n",
    "            return self\n",
    "        else:\n",
    "            raise TypeError(\"Invalid type {} for other\".format(type(other)))"
   ]
  },
  {
   "cell_type": "code",
   "execution_count": 55,
   "id": "adequate-wonder",
   "metadata": {},
   "outputs": [],
   "source": [
    "l = [RegularNumber(1), 2]"
   ]
  },
  {
   "cell_type": "code",
   "execution_count": 56,
   "id": "eleven-lotus",
   "metadata": {},
   "outputs": [
    {
     "data": {
      "text/plain": [
       "[1, 2]"
      ]
     },
     "execution_count": 56,
     "metadata": {},
     "output_type": "execute_result"
    }
   ],
   "source": [
    "l"
   ]
  },
  {
   "cell_type": "code",
   "execution_count": 57,
   "id": "indian-legislation",
   "metadata": {},
   "outputs": [],
   "source": [
    "x = l[0]"
   ]
  },
  {
   "cell_type": "code",
   "execution_count": 58,
   "id": "concerned-edition",
   "metadata": {},
   "outputs": [
    {
     "data": {
      "text/plain": [
       "1"
      ]
     },
     "execution_count": 58,
     "metadata": {},
     "output_type": "execute_result"
    }
   ],
   "source": [
    "x"
   ]
  },
  {
   "cell_type": "code",
   "execution_count": 59,
   "id": "spoken-bidder",
   "metadata": {},
   "outputs": [
    {
     "data": {
      "text/plain": [
       "[1, 2]"
      ]
     },
     "execution_count": 59,
     "metadata": {},
     "output_type": "execute_result"
    }
   ],
   "source": [
    "l"
   ]
  },
  {
   "cell_type": "code",
   "execution_count": 60,
   "id": "incredible-strike",
   "metadata": {},
   "outputs": [],
   "source": [
    "x += 1"
   ]
  },
  {
   "cell_type": "code",
   "execution_count": 61,
   "id": "satisfied-cache",
   "metadata": {},
   "outputs": [
    {
     "data": {
      "text/plain": [
       "2"
      ]
     },
     "execution_count": 61,
     "metadata": {},
     "output_type": "execute_result"
    }
   ],
   "source": [
    "x"
   ]
  },
  {
   "cell_type": "code",
   "execution_count": 62,
   "id": "professional-hygiene",
   "metadata": {},
   "outputs": [],
   "source": [
    "x += x"
   ]
  },
  {
   "cell_type": "code",
   "execution_count": 63,
   "id": "understood-tsunami",
   "metadata": {},
   "outputs": [
    {
     "data": {
      "text/plain": [
       "4"
      ]
     },
     "execution_count": 63,
     "metadata": {},
     "output_type": "execute_result"
    }
   ],
   "source": [
    "x"
   ]
  },
  {
   "cell_type": "code",
   "execution_count": 48,
   "id": "incorrect-sunglasses",
   "metadata": {},
   "outputs": [
    {
     "ename": "TypeError",
     "evalue": "Invalid type <class 'str'> for other",
     "output_type": "error",
     "traceback": [
      "\u001b[0;31m---------------------------------------------------------------------------\u001b[0m",
      "\u001b[0;31mTypeError\u001b[0m                                 Traceback (most recent call last)",
      "\u001b[0;32m<ipython-input-48-0f0e9dcae926>\u001b[0m in \u001b[0;36m<module>\u001b[0;34m\u001b[0m\n\u001b[0;32m----> 1\u001b[0;31m \u001b[0mx\u001b[0m \u001b[0;34m+=\u001b[0m \u001b[0;34m'a'\u001b[0m\u001b[0;34m\u001b[0m\u001b[0;34m\u001b[0m\u001b[0m\n\u001b[0m",
      "\u001b[0;32m<ipython-input-38-19345f030357>\u001b[0m in \u001b[0;36m__iadd__\u001b[0;34m(self, other)\u001b[0m\n\u001b[1;32m     22\u001b[0m             \u001b[0;32mreturn\u001b[0m \u001b[0mself\u001b[0m\u001b[0;34m\u001b[0m\u001b[0;34m\u001b[0m\u001b[0m\n\u001b[1;32m     23\u001b[0m         \u001b[0;32melse\u001b[0m\u001b[0;34m:\u001b[0m\u001b[0;34m\u001b[0m\u001b[0;34m\u001b[0m\u001b[0m\n\u001b[0;32m---> 24\u001b[0;31m             \u001b[0;32mraise\u001b[0m \u001b[0mTypeError\u001b[0m\u001b[0;34m(\u001b[0m\u001b[0;34m\"Invalid type {} for other\"\u001b[0m\u001b[0;34m.\u001b[0m\u001b[0mformat\u001b[0m\u001b[0;34m(\u001b[0m\u001b[0mtype\u001b[0m\u001b[0;34m(\u001b[0m\u001b[0mother\u001b[0m\u001b[0;34m)\u001b[0m\u001b[0;34m)\u001b[0m\u001b[0;34m)\u001b[0m\u001b[0;34m\u001b[0m\u001b[0;34m\u001b[0m\u001b[0m\n\u001b[0m",
      "\u001b[0;31mTypeError\u001b[0m: Invalid type <class 'str'> for other"
     ]
    }
   ],
   "source": [
    "x += 'a'"
   ]
  },
  {
   "cell_type": "code",
   "execution_count": 49,
   "id": "equivalent-arbitration",
   "metadata": {},
   "outputs": [
    {
     "data": {
      "text/plain": [
       "[2, 2]"
      ]
     },
     "execution_count": 49,
     "metadata": {},
     "output_type": "execute_result"
    }
   ],
   "source": [
    "l"
   ]
  },
  {
   "cell_type": "code",
   "execution_count": 72,
   "id": "consistent-cannon",
   "metadata": {},
   "outputs": [],
   "source": [
    "def regularize_list(l):\n",
    "    if isinstance(l, int):\n",
    "        return RegularNumber(l)\n",
    "    elif isinstance(l, list):\n",
    "        assert len(l) == 2\n",
    "        return [regularize_list(e) for e in l]\n",
    "    else:\n",
    "        raise TypeError(\"Invalid type ()\".format(type(e)))"
   ]
  },
  {
   "cell_type": "code",
   "execution_count": 83,
   "id": "metropolitan-elements",
   "metadata": {},
   "outputs": [],
   "source": [
    "reg_l = regularize_list(l)"
   ]
  },
  {
   "cell_type": "code",
   "execution_count": 84,
   "id": "marked-newport",
   "metadata": {},
   "outputs": [
    {
     "data": {
      "text/plain": [
       "[[[[[4, 3], 4], 4], [7, [[8, 4], 9]]], [1, 1]]"
      ]
     },
     "execution_count": 84,
     "metadata": {},
     "output_type": "execute_result"
    }
   ],
   "source": [
    "reg_l"
   ]
  },
  {
   "cell_type": "code",
   "execution_count": 87,
   "id": "stretch-awareness",
   "metadata": {},
   "outputs": [],
   "source": [
    "def explode(pair):\n",
    "    has_exploded = False\n",
    "    prev=None\n",
    "    explode_add=0\n",
    "\n",
    "    def helper(pair, depth=0):\n",
    "        nonlocal has_exploded\n",
    "        nonlocal prev\n",
    "        nonlocal explode_add\n",
    "\n",
    "        a, b = pair\n",
    "        a_regular = isinstance(a, RegularNumber)\n",
    "        b_regular = isinstance(b, RegularNumber)\n",
    "\n",
    "        if has_exploded:\n",
    "            if a_regular:\n",
    "                a += explode_add\n",
    "                return\n",
    "            else:\n",
    "                helper(a, depth+1)\n",
    "                if b_regular:\n",
    "                    b += explode_add\n",
    "                else:\n",
    "                    helper(b, depth+1)\n",
    "        \n",
    "        elif (depth >= 4) and a_regular and b_regular:\n",
    "            print(\"()\")\n",
    "            has_exploded = True\n",
    "            explode_add = b_regular\n",
    "            if prev is not None:\n",
    "                prev += a_regular\n",
    "            return\n",
    "        \n",
    "        elif a_regular:\n",
    "            prev = a\n",
    "            if b_regular:\n",
    "                prev = b\n",
    "                return\n",
    "        else:\n",
    "            helper(a, depth + 1)\n",
    "            if b_regular:\n",
    "                prev = b\n",
    "                return\n",
    "            else:\n",
    "                helper(b, depth + 1)\n",
    "        \n",
    "    helper(pair)"
   ]
  },
  {
   "cell_type": "code",
   "execution_count": 88,
   "id": "bored-phenomenon",
   "metadata": {},
   "outputs": [],
   "source": [
    "explode(reg_l)"
   ]
  },
  {
   "cell_type": "code",
   "execution_count": 89,
   "id": "unavailable-subdivision",
   "metadata": {},
   "outputs": [
    {
     "data": {
      "text/plain": [
       "[[[[[4, 3], 4], 4], [8, [[8, 4], 9]]], [2, 1]]"
      ]
     },
     "execution_count": 89,
     "metadata": {},
     "output_type": "execute_result"
    }
   ],
   "source": [
    "reg_l"
   ]
  },
  {
   "cell_type": "code",
   "execution_count": 90,
   "id": "sacred-insertion",
   "metadata": {},
   "outputs": [],
   "source": [
    "test_s = literal_eval('[[6,[5,[4,[3,2]]]],1]')"
   ]
  },
  {
   "cell_type": "code",
   "execution_count": 91,
   "id": "rational-assist",
   "metadata": {},
   "outputs": [],
   "source": [
    "test_l = regularize_list(test_s)"
   ]
  },
  {
   "cell_type": "code",
   "execution_count": 92,
   "id": "mounted-variance",
   "metadata": {},
   "outputs": [
    {
     "data": {
      "text/plain": [
       "[[6, [5, [4, [3, 2]]]], 1]"
      ]
     },
     "execution_count": 92,
     "metadata": {},
     "output_type": "execute_result"
    }
   ],
   "source": [
    "test_l"
   ]
  },
  {
   "cell_type": "code",
   "execution_count": 93,
   "id": "exclusive-belle",
   "metadata": {},
   "outputs": [],
   "source": [
    "explode(test_l)"
   ]
  },
  {
   "cell_type": "code",
   "execution_count": 94,
   "id": "practical-negotiation",
   "metadata": {},
   "outputs": [
    {
     "data": {
      "text/plain": [
       "[[6, [5, [4, [3, 2]]]], 1]"
      ]
     },
     "execution_count": 94,
     "metadata": {},
     "output_type": "execute_result"
    }
   ],
   "source": [
    "test_l"
   ]
  },
  {
   "cell_type": "code",
   "execution_count": null,
   "id": "ceramic-champagne",
   "metadata": {},
   "outputs": [],
   "source": []
  }
 ],
 "metadata": {
  "kernelspec": {
   "display_name": "Python 3",
   "language": "python",
   "name": "python3"
  },
  "language_info": {
   "codemirror_mode": {
    "name": "ipython",
    "version": 3
   },
   "file_extension": ".py",
   "mimetype": "text/x-python",
   "name": "python",
   "nbconvert_exporter": "python",
   "pygments_lexer": "ipython3",
   "version": "3.9.4"
  }
 },
 "nbformat": 4,
 "nbformat_minor": 5
}
