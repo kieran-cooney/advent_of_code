{
 "cells": [
  {
   "cell_type": "code",
   "execution_count": 11,
   "id": "immediate-island",
   "metadata": {},
   "outputs": [],
   "source": [
    "from itertools import count"
   ]
  },
  {
   "cell_type": "code",
   "execution_count": 28,
   "id": "contained-biodiversity",
   "metadata": {},
   "outputs": [],
   "source": [
    "def parse_input(filepath):\n",
    "    with open(filepath, 'r') as f:\n",
    "        splits = (l.strip().split(' | ') for l in f)\n",
    "        out = [\n",
    "            (a.split(' '), b.split(' '))\n",
    "            for a, b in splits\n",
    "        ]\n",
    "\n",
    "    return out"
   ]
  },
  {
   "cell_type": "code",
   "execution_count": 29,
   "id": "manufactured-alexander",
   "metadata": {},
   "outputs": [],
   "source": [
    "outputs = parse_input('test_input.txt')"
   ]
  },
  {
   "cell_type": "code",
   "execution_count": 34,
   "id": "informative-difference",
   "metadata": {},
   "outputs": [
    {
     "data": {
      "text/plain": [
       "[(['cbdfag',\n",
       "   'bf',\n",
       "   'ebgda',\n",
       "   'cfead',\n",
       "   'aecbgd',\n",
       "   'dfbea',\n",
       "   'dbafecg',\n",
       "   'fab',\n",
       "   'bgdaef',\n",
       "   'fgeb'],\n",
       "  ['bf', 'defbag', 'efadgbc', 'bfgeda']),\n",
       " (['defgac',\n",
       "   'bfcedag',\n",
       "   'fcaeb',\n",
       "   'gefcb',\n",
       "   'acdfe',\n",
       "   'bfad',\n",
       "   'bea',\n",
       "   'ba',\n",
       "   'acbedg',\n",
       "   'cdebfa'],\n",
       "  ['abcfed', 'adfb', 'fdba', 'ab'])]"
      ]
     },
     "execution_count": 34,
     "metadata": {},
     "output_type": "execute_result"
    }
   ],
   "source": [
    "outputs[:2]"
   ]
  },
  {
   "cell_type": "code",
   "execution_count": 23,
   "id": "recreational-protocol",
   "metadata": {},
   "outputs": [],
   "source": [
    "valid_nums = [2, 3, 4, 7]"
   ]
  },
  {
   "cell_type": "code",
   "execution_count": 31,
   "id": "spoken-rachel",
   "metadata": {},
   "outputs": [
    {
     "data": {
      "text/plain": [
       "26"
      ]
     },
     "execution_count": 31,
     "metadata": {},
     "output_type": "execute_result"
    }
   ],
   "source": [
    "sum(len(s) in valid_nums for _, l in outputs for s in l)"
   ]
  },
  {
   "cell_type": "code",
   "execution_count": 32,
   "id": "aboriginal-fence",
   "metadata": {},
   "outputs": [],
   "source": [
    "outputs = parse_input('input.txt')"
   ]
  },
  {
   "cell_type": "code",
   "execution_count": 33,
   "id": "popular-thumb",
   "metadata": {},
   "outputs": [
    {
     "data": {
      "text/plain": [
       "532"
      ]
     },
     "execution_count": 33,
     "metadata": {},
     "output_type": "execute_result"
    }
   ],
   "source": [
    "sum(len(s) in valid_nums for _, l in outputs for s in l)"
   ]
  },
  {
   "cell_type": "code",
   "execution_count": 35,
   "id": "protective-frederick",
   "metadata": {},
   "outputs": [
    {
     "data": {
      "text/plain": [
       "[(['cbdfag',\n",
       "   'bf',\n",
       "   'ebgda',\n",
       "   'cfead',\n",
       "   'aecbgd',\n",
       "   'dfbea',\n",
       "   'dbafecg',\n",
       "   'fab',\n",
       "   'bgdaef',\n",
       "   'fgeb'],\n",
       "  ['bf', 'defbag', 'efadgbc', 'bfgeda']),\n",
       " (['defgac',\n",
       "   'bfcedag',\n",
       "   'fcaeb',\n",
       "   'gefcb',\n",
       "   'acdfe',\n",
       "   'bfad',\n",
       "   'bea',\n",
       "   'ba',\n",
       "   'acbedg',\n",
       "   'cdebfa'],\n",
       "  ['abcfed', 'adfb', 'fdba', 'ab'])]"
      ]
     },
     "execution_count": 35,
     "metadata": {},
     "output_type": "execute_result"
    }
   ],
   "source": [
    "outputs[:2]"
   ]
  },
  {
   "cell_type": "code",
   "execution_count": 123,
   "id": "elder-surprise",
   "metadata": {},
   "outputs": [],
   "source": [
    "def sort_string(s):\n",
    "    return ''.join(sorted(s))"
   ]
  },
  {
   "cell_type": "code",
   "execution_count": 151,
   "id": "accredited-ceiling",
   "metadata": {},
   "outputs": [],
   "source": [
    "def decode_inputs(inputs):\n",
    "    decoder = ['']*10\n",
    "\n",
    "    def update_decoder(index, string_list):\n",
    "        assert len(string_list) == 1\n",
    "        decoder[index] = string_list[0]\n",
    "\n",
    "    count_map = {2: 1, 3: 7, 4: 4, 7: 8}\n",
    "    for k, v in count_map.items():\n",
    "        valid_strings = [s for s in inputs if len(s) == k]\n",
    "        update_decoder(v, valid_strings)\n",
    "\n",
    "    zero_six_or_nine = [s for s in inputs if len(s) == 6]\n",
    "    assert len(zero_six_or_nine) == 3\n",
    "    \n",
    "    nines = [s for s in zero_six_or_nine if all(c in s for c in decoder[4])]\n",
    "    update_decoder(9, nines)\n",
    "\n",
    "    zeros = [\n",
    "        s for s in zero_six_or_nine\n",
    "        if (s!= decoder[9]) and all(c in s for c in decoder[7])\n",
    "    ]\n",
    "    update_decoder(0, zeros)\n",
    "\n",
    "    six = [\n",
    "        s for s in zero_six_or_nine\n",
    "        if (s != decoder[0]) and (s != decoder[9])\n",
    "    ]\n",
    "    update_decoder(6, six)\n",
    "\n",
    "    rest = [s for s in inputs if s not in decoder]\n",
    "    assert len(rest) == 3\n",
    "\n",
    "    three = [s for s in rest if all(c in s for c in decoder[1])]\n",
    "    update_decoder(3, three)\n",
    "\n",
    "    five = [s for s in rest if all(c in decoder[6] for c in s)]\n",
    "    update_decoder(5, five)\n",
    "\n",
    "    two = [s for s in rest if (s!= decoder[3]) and (s!= decoder[5])]\n",
    "    update_decoder(2, two)\n",
    "    \n",
    "    assert '' not in decoder\n",
    "    \n",
    "    decoder = [sort_string(s) for s in decoder]\n",
    "    return decoder"
   ]
  },
  {
   "cell_type": "code",
   "execution_count": 163,
   "id": "actual-romance",
   "metadata": {},
   "outputs": [],
   "source": [
    "def apply_digit_decoder(decoder, input_string):\n",
    "    input_string = sort_string(input_string)\n",
    "    for i, s in enumerate(decoder):\n",
    "        if s == input_string:\n",
    "            return i\n",
    "    return None"
   ]
  },
  {
   "cell_type": "code",
   "execution_count": 164,
   "id": "abstract-method",
   "metadata": {},
   "outputs": [],
   "source": [
    "def apply_decoder(decoder, input_strings):\n",
    "    out = sum(\n",
    "        apply_digit_decoder(decoder, s)*(10**i)\n",
    "        for i, s in enumerate(reversed(input_strings))\n",
    "    )\n",
    "    return out"
   ]
  },
  {
   "cell_type": "code",
   "execution_count": 165,
   "id": "normal-muscle",
   "metadata": {},
   "outputs": [],
   "source": [
    "def decode_and_sum(input_pairs):\n",
    "    out = 0\n",
    "    for signal, output in input_pairs:\n",
    "        decoder = decode_inputs(signal)\n",
    "        num = apply_decoder(decoder, output)\n",
    "        out += num\n",
    "\n",
    "    return out"
   ]
  },
  {
   "cell_type": "code",
   "execution_count": 142,
   "id": "tribal-anthony",
   "metadata": {},
   "outputs": [],
   "source": [
    "outputs = parse_input('test_input.txt')"
   ]
  },
  {
   "cell_type": "code",
   "execution_count": 146,
   "id": "designed-gender",
   "metadata": {},
   "outputs": [],
   "source": [
    "test_inputs = outputs[1][0]"
   ]
  },
  {
   "cell_type": "code",
   "execution_count": 147,
   "id": "fitting-suspect",
   "metadata": {},
   "outputs": [
    {
     "data": {
      "text/plain": [
       "10"
      ]
     },
     "execution_count": 147,
     "metadata": {},
     "output_type": "execute_result"
    }
   ],
   "source": [
    "len(test_inputs)"
   ]
  },
  {
   "cell_type": "code",
   "execution_count": 148,
   "id": "suburban-electric",
   "metadata": {},
   "outputs": [
    {
     "data": {
      "text/plain": [
       "['edbfga',\n",
       " 'begcd',\n",
       " 'cbg',\n",
       " 'gc',\n",
       " 'gcadebf',\n",
       " 'fbgde',\n",
       " 'acbgfd',\n",
       " 'abcde',\n",
       " 'gfcbed',\n",
       " 'gfec']"
      ]
     },
     "execution_count": 148,
     "metadata": {},
     "output_type": "execute_result"
    }
   ],
   "source": [
    "test_inputs"
   ]
  },
  {
   "cell_type": "code",
   "execution_count": 149,
   "id": "elegant-glossary",
   "metadata": {},
   "outputs": [
    {
     "data": {
      "text/plain": [
       "['abcdfg',\n",
       " 'cg',\n",
       " 'abcde',\n",
       " 'bcdeg',\n",
       " 'cefg',\n",
       " 'bdefg',\n",
       " 'abdefg',\n",
       " 'bcg',\n",
       " 'abcdefg',\n",
       " 'bcdefg']"
      ]
     },
     "execution_count": 149,
     "metadata": {},
     "output_type": "execute_result"
    }
   ],
   "source": [
    "decode_inputs(test_inputs)"
   ]
  },
  {
   "cell_type": "code",
   "execution_count": 52,
   "id": "differential-antarctica",
   "metadata": {},
   "outputs": [],
   "source": [
    "decoder = ['']*10"
   ]
  },
  {
   "cell_type": "code",
   "execution_count": 59,
   "id": "trying-nursing",
   "metadata": {},
   "outputs": [],
   "source": [
    "def update_decoder(index, string_list):\n",
    "    print(string_list)\n",
    "    print(len(string_list))\n",
    "    assert len(string_list) == 1\n",
    "    decoder[index] = string_list[0]"
   ]
  },
  {
   "cell_type": "code",
   "execution_count": 54,
   "id": "radio-public",
   "metadata": {},
   "outputs": [],
   "source": [
    "count_map = {2: 1, 3: 7, 4: 4, 7: 8}"
   ]
  },
  {
   "cell_type": "code",
   "execution_count": 63,
   "id": "analyzed-bachelor",
   "metadata": {},
   "outputs": [
    {
     "name": "stdout",
     "output_type": "stream",
     "text": [
      "2\n",
      "1\n",
      "['be']\n",
      "1\n",
      "3\n",
      "7\n",
      "['edb']\n",
      "1\n",
      "4\n",
      "4\n",
      "['cgeb']\n",
      "1\n",
      "7\n",
      "8\n",
      "['cfbegad']\n",
      "1\n"
     ]
    }
   ],
   "source": [
    "for k, v in count_map.items():\n",
    "    valid_strings = [s for s in test_inputs if len(s) == k]\n",
    "    print(k)\n",
    "    print(v)\n",
    "    print(valid_strings)\n",
    "    print(len(valid_strings))"
   ]
  },
  {
   "cell_type": "code",
   "execution_count": 64,
   "id": "opponent-messaging",
   "metadata": {},
   "outputs": [
    {
     "name": "stdout",
     "output_type": "stream",
     "text": [
      "['be']\n",
      "['be']\n",
      "1\n",
      "['edb']\n",
      "['edb']\n",
      "1\n",
      "['cgeb']\n",
      "['cgeb']\n",
      "1\n",
      "['cfbegad']\n",
      "['cfbegad']\n",
      "1\n"
     ]
    }
   ],
   "source": [
    "for k, v in count_map.items():\n",
    "    valid_strings = [s for s in test_inputs if len(s) == k]\n",
    "    print(valid_strings)\n",
    "    update_decoder(v, valid_strings)"
   ]
  },
  {
   "cell_type": "code",
   "execution_count": 157,
   "id": "varying-opposition",
   "metadata": {},
   "outputs": [
    {
     "data": {
      "text/plain": [
       "['edbfga',\n",
       " 'begcd',\n",
       " 'cbg',\n",
       " 'gc',\n",
       " 'gcadebf',\n",
       " 'fbgde',\n",
       " 'acbgfd',\n",
       " 'abcde',\n",
       " 'gfcbed',\n",
       " 'gfec']"
      ]
     },
     "execution_count": 157,
     "metadata": {},
     "output_type": "execute_result"
    }
   ],
   "source": [
    "test_inputs"
   ]
  },
  {
   "cell_type": "code",
   "execution_count": 158,
   "id": "cheap-hebrew",
   "metadata": {},
   "outputs": [
    {
     "data": {
      "text/plain": [
       "['abcdfg',\n",
       " 'cg',\n",
       " 'abcde',\n",
       " 'bcdeg',\n",
       " 'cefg',\n",
       " 'bdefg',\n",
       " 'abdefg',\n",
       " 'bcg',\n",
       " 'abcdefg',\n",
       " 'bcdefg']"
      ]
     },
     "execution_count": 158,
     "metadata": {},
     "output_type": "execute_result"
    }
   ],
   "source": [
    "decode_inputs(test_inputs)"
   ]
  },
  {
   "cell_type": "code",
   "execution_count": 159,
   "id": "excess-graph",
   "metadata": {},
   "outputs": [
    {
     "data": {
      "text/plain": [
       "['abdefg',\n",
       " 'be',\n",
       " 'abcdf',\n",
       " 'bcdef',\n",
       " 'bceg',\n",
       " 'cdefg',\n",
       " 'acdefg',\n",
       " 'bde',\n",
       " 'abcdefg',\n",
       " 'bcdefg']"
      ]
     },
     "execution_count": 159,
     "metadata": {},
     "output_type": "execute_result"
    }
   ],
   "source": [
    "['abdefg', 'be', 'abcdf', 'bcdef', 'bceg', 'cdefg', 'acdefg', 'bde', 'abcdefg', 'bcdefg']"
   ]
  },
  {
   "cell_type": "code",
   "execution_count": 71,
   "id": "executed-grace",
   "metadata": {},
   "outputs": [],
   "source": [
    "inputs = test_inputs"
   ]
  },
  {
   "cell_type": "code",
   "execution_count": 72,
   "id": "experimental-alpha",
   "metadata": {},
   "outputs": [],
   "source": [
    "decoder = ['']*10\n",
    "\n",
    "def update_decoder(index, string_list):\n",
    "    assert len(string_list) == 1\n",
    "    decoder[index] = string_list[0]\n",
    "\n",
    "count_map = {2: 1, 3: 7, 4: 4, 7: 8}\n",
    "for k, v in count_map.items():\n",
    "    valid_strings = [s for s in inputs if len(s) == k]\n",
    "    update_decoder(v, valid_strings)\n",
    "\n",
    "zero_six_or_nine = [s for s in inputs if len(s) == 6]\n",
    "assert len(zero_six_or_nine) == 3\n",
    "\n",
    "nines = [s for s in zero_six_or_nine if all(c in s for c in decoder[4])]\n",
    "update_decoder(9, nines)\n",
    "\n",
    "zeros = [\n",
    "    s for s in zero_six_or_nine\n",
    "    if (s!= decoder[9]) and all(c in s for c in decoder[7])\n",
    "]\n",
    "update_decoder(0, zeros)\n",
    "\n",
    "six = [\n",
    "    s for s in zero_six_or_nine\n",
    "    if (s != decoder[0]) and (s != decoder[9])\n",
    "]\n",
    "update_decoder(6, six)\n",
    "\n",
    "rest = [s for s in inputs if s not in decoder]\n",
    "assert len(rest) == 3\n",
    "\n",
    "three = [s for s in rest if all(c in s for c in decoder[1])]\n",
    "update_decoder(3, three)"
   ]
  },
  {
   "cell_type": "code",
   "execution_count": 73,
   "id": "painful-exercise",
   "metadata": {},
   "outputs": [
    {
     "data": {
      "text/plain": [
       "['agebfd', 'be', '', 'fecdb', 'cgeb', '', 'fgaecd', 'edb', 'cfbegad', 'cbdgef']"
      ]
     },
     "execution_count": 73,
     "metadata": {},
     "output_type": "execute_result"
    }
   ],
   "source": [
    "decoder"
   ]
  },
  {
   "cell_type": "code",
   "execution_count": 86,
   "id": "attached-teach",
   "metadata": {},
   "outputs": [],
   "source": [
    "five = [s for s in rest if all(c in decoder[6] for c in s)]"
   ]
  },
  {
   "cell_type": "code",
   "execution_count": 87,
   "id": "contemporary-covering",
   "metadata": {},
   "outputs": [
    {
     "data": {
      "text/plain": [
       "['fdcge']"
      ]
     },
     "execution_count": 87,
     "metadata": {},
     "output_type": "execute_result"
    }
   ],
   "source": [
    "five"
   ]
  },
  {
   "cell_type": "code",
   "execution_count": 88,
   "id": "israeli-diversity",
   "metadata": {},
   "outputs": [
    {
     "data": {
      "text/plain": [
       "['fdcge', 'fecdb', 'fabcd']"
      ]
     },
     "execution_count": 88,
     "metadata": {},
     "output_type": "execute_result"
    }
   ],
   "source": [
    "rest"
   ]
  },
  {
   "cell_type": "code",
   "execution_count": 89,
   "id": "reliable-facility",
   "metadata": {},
   "outputs": [
    {
     "data": {
      "text/plain": [
       "'cbdgef'"
      ]
     },
     "execution_count": 89,
     "metadata": {},
     "output_type": "execute_result"
    }
   ],
   "source": [
    "decoder[9]"
   ]
  },
  {
   "cell_type": "code",
   "execution_count": 90,
   "id": "expressed-second",
   "metadata": {},
   "outputs": [
    {
     "data": {
      "text/plain": [
       "['fdcge', 'fabcd']"
      ]
     },
     "execution_count": 90,
     "metadata": {},
     "output_type": "execute_result"
    }
   ],
   "source": [
    "two"
   ]
  },
  {
   "cell_type": "code",
   "execution_count": 91,
   "id": "divine-lecture",
   "metadata": {},
   "outputs": [],
   "source": [
    "update_decoder(5, five)"
   ]
  },
  {
   "cell_type": "code",
   "execution_count": 92,
   "id": "domestic-dealing",
   "metadata": {},
   "outputs": [
    {
     "data": {
      "text/plain": [
       "['fdcge', 'fecdb', 'fabcd']"
      ]
     },
     "execution_count": 92,
     "metadata": {},
     "output_type": "execute_result"
    }
   ],
   "source": [
    "rest"
   ]
  },
  {
   "cell_type": "code",
   "execution_count": 93,
   "id": "secondary-ancient",
   "metadata": {},
   "outputs": [],
   "source": [
    "two = [s for s in rest if (s!= decoder[3]) and (s!= decoder[5])]\n",
    "update_decoder(2, two)\n",
    "\n",
    "assert '' not in decoder"
   ]
  },
  {
   "cell_type": "code",
   "execution_count": 96,
   "id": "south-first",
   "metadata": {},
   "outputs": [
    {
     "data": {
      "text/plain": [
       "10"
      ]
     },
     "execution_count": 96,
     "metadata": {},
     "output_type": "execute_result"
    }
   ],
   "source": [
    "len(outputs)"
   ]
  },
  {
   "cell_type": "code",
   "execution_count": 161,
   "id": "seven-uzbekistan",
   "metadata": {},
   "outputs": [
    {
     "name": "stdout",
     "output_type": "stream",
     "text": [
      "['be', 'cfbegad', 'cbdgef', 'fgaecd', 'cgeb', 'fdcge', 'agebfd', 'fecdb', 'fabcd', 'edb']\n",
      "['fdgacbe', 'cefdb', 'cefbgd', 'gcbe']\n",
      "['edbfga', 'begcd', 'cbg', 'gc', 'gcadebf', 'fbgde', 'acbgfd', 'abcde', 'gfcbed', 'gfec']\n",
      "['fcgedb', 'cgb', 'dgebacf', 'gc']\n",
      "['fgaebd', 'cg', 'bdaec', 'gdafb', 'agbcfd', 'gdcbef', 'bgcad', 'gfac', 'gcb', 'cdgabef']\n",
      "['cg', 'cg', 'fdcagb', 'cbg']\n",
      "['fbegcd', 'cbd', 'adcefb', 'dageb', 'afcb', 'bc', 'aefdc', 'ecdab', 'fgdeca', 'fcdbega']\n",
      "['efabcd', 'cedba', 'gadfec', 'cb']\n",
      "['aecbfdg', 'fbg', 'gf', 'bafeg', 'dbefa', 'fcge', 'gcbea', 'fcaegb', 'dgceab', 'fcbdga']\n",
      "['gecf', 'egdcabf', 'bgf', 'bfgea']\n",
      "['fgeab', 'ca', 'afcebg', 'bdacfeg', 'cfaedg', 'gcfdb', 'baec', 'bfadeg', 'bafgc', 'acf']\n",
      "['gebdcfa', 'ecba', 'ca', 'fadegcb']\n",
      "['dbcfg', 'fgd', 'bdegcaf', 'fgec', 'aegbdf', 'ecdfab', 'fbedc', 'dacgb', 'gdcebf', 'gf']\n",
      "['cefg', 'dcbef', 'fcge', 'gbcadfe']\n",
      "['bdfegc', 'cbegaf', 'gecbf', 'dfcage', 'bdacg', 'ed', 'bedf', 'ced', 'adcbefg', 'gebcd']\n",
      "['ed', 'bcgafe', 'cdgba', 'cbgef']\n",
      "['egadfb', 'cdbfeg', 'cegd', 'fecab', 'cgb', 'gbdefca', 'cg', 'fgcdab', 'egfdb', 'bfceg']\n",
      "['gbdfcae', 'bgc', 'cg', 'cgb']\n",
      "['gcafb', 'gcf', 'dcaebfg', 'ecagb', 'gf', 'abcdeg', 'gaef', 'cafbge', 'fdbac', 'fegbdc']\n",
      "['fgae', 'cfgab', 'fg', 'bagce']\n"
     ]
    },
    {
     "data": {
      "text/plain": [
       "61229"
      ]
     },
     "execution_count": 161,
     "metadata": {},
     "output_type": "execute_result"
    }
   ],
   "source": [
    "decode_and_sum(outputs)"
   ]
  },
  {
   "cell_type": "code",
   "execution_count": 122,
   "id": "annoying-stockholm",
   "metadata": {},
   "outputs": [
    {
     "data": {
      "text/plain": [
       "['e', 'h', 'l', 'l', 'o']"
      ]
     },
     "execution_count": 122,
     "metadata": {},
     "output_type": "execute_result"
    }
   ],
   "source": [
    "sorted('hello')"
   ]
  },
  {
   "cell_type": "code",
   "execution_count": 166,
   "id": "harmful-denver",
   "metadata": {},
   "outputs": [],
   "source": [
    "outputs = parse_input('input.txt')"
   ]
  },
  {
   "cell_type": "code",
   "execution_count": 167,
   "id": "superb-boating",
   "metadata": {},
   "outputs": [
    {
     "data": {
      "text/plain": [
       "1011284"
      ]
     },
     "execution_count": 167,
     "metadata": {},
     "output_type": "execute_result"
    }
   ],
   "source": [
    "decode_and_sum(outputs)"
   ]
  },
  {
   "cell_type": "code",
   "execution_count": null,
   "id": "compressed-henry",
   "metadata": {},
   "outputs": [],
   "source": []
  }
 ],
 "metadata": {
  "kernelspec": {
   "display_name": "Python 3",
   "language": "python",
   "name": "python3"
  },
  "language_info": {
   "codemirror_mode": {
    "name": "ipython",
    "version": 3
   },
   "file_extension": ".py",
   "mimetype": "text/x-python",
   "name": "python",
   "nbconvert_exporter": "python",
   "pygments_lexer": "ipython3",
   "version": "3.9.4"
  }
 },
 "nbformat": 4,
 "nbformat_minor": 5
}
