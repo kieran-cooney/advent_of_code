{
 "cells": [
  {
   "cell_type": "code",
   "execution_count": 2,
   "id": "aggressive-short",
   "metadata": {},
   "outputs": [],
   "source": [
    "import re"
   ]
  },
  {
   "cell_type": "code",
   "execution_count": 16,
   "id": "nutritional-velvet",
   "metadata": {},
   "outputs": [],
   "source": [
    "from collections import defaultdict"
   ]
  },
  {
   "cell_type": "code",
   "execution_count": 11,
   "id": "julian-increase",
   "metadata": {},
   "outputs": [],
   "source": [
    "PAIR_PATTERN = re.compile(r'^([A-Z])([A-Z]) -> ([A-Z])$')"
   ]
  },
  {
   "cell_type": "code",
   "execution_count": 10,
   "id": "acting-estate",
   "metadata": {},
   "outputs": [],
   "source": [
    "def parse_input(filepath):\n",
    "    with open(filepath, 'r') as f:\n",
    "        template = next(f).strip()\n",
    "        next(f)\n",
    "        pairs = [PAIR_PATTERN.match(l.strip()).groups() for l in f]\n",
    "    \n",
    "    return template, pairs"
   ]
  },
  {
   "cell_type": "code",
   "execution_count": 12,
   "id": "historic-chain",
   "metadata": {},
   "outputs": [],
   "source": [
    "template, pairs = parse_input('test_input.txt')"
   ]
  },
  {
   "cell_type": "code",
   "execution_count": 14,
   "id": "banned-switch",
   "metadata": {},
   "outputs": [
    {
     "data": {
      "text/plain": [
       "'NNCB'"
      ]
     },
     "execution_count": 14,
     "metadata": {},
     "output_type": "execute_result"
    }
   ],
   "source": [
    "template"
   ]
  },
  {
   "cell_type": "code",
   "execution_count": 17,
   "id": "blessed-factor",
   "metadata": {},
   "outputs": [],
   "source": [
    "pair_rules = {i1 + i2: (i1+ o, o + i2) for i1, i2, o in pairs}"
   ]
  },
  {
   "cell_type": "code",
   "execution_count": 54,
   "id": "peaceful-chosen",
   "metadata": {},
   "outputs": [],
   "source": [
    "def string_to_pair_counts(s):\n",
    "    out_pair_counts = defaultdict(int)\n",
    "\n",
    "    for i1, i2 in zip(s[:-1], s[1:]):\n",
    "        out_pair_counts[i1+i2] += 1\n",
    "\n",
    "    return out_pair_counts"
   ]
  },
  {
   "cell_type": "code",
   "execution_count": 55,
   "id": "complex-combine",
   "metadata": {},
   "outputs": [
    {
     "data": {
      "text/plain": [
       "defaultdict(int, {'NN': 1, 'NC': 1, 'CB': 1})"
      ]
     },
     "execution_count": 55,
     "metadata": {},
     "output_type": "execute_result"
    }
   ],
   "source": [
    "string_to_pair_counts(template)"
   ]
  },
  {
   "cell_type": "code",
   "execution_count": 53,
   "id": "acceptable-fishing",
   "metadata": {},
   "outputs": [],
   "source": [
    "test_templates = [\n",
    "    'NCNBCHB',\n",
    "    'NBCCNBBBCBHCB',\n",
    "    'NBBBCNCCNBBNBNBBCHBHHBCHB',\n",
    "    'NBBNBNBBCCNBCNCCNBBNBBNBBBNBBNBBCBHCBHHNHCBBCBHCB'\n",
    "]"
   ]
  },
  {
   "cell_type": "code",
   "execution_count": 56,
   "id": "assured-hartford",
   "metadata": {},
   "outputs": [],
   "source": [
    "test_pair_counts = [string_to_pair_counts(s) for s in test_templates]"
   ]
  },
  {
   "cell_type": "code",
   "execution_count": 60,
   "id": "incorporate-session",
   "metadata": {},
   "outputs": [
    {
     "data": {
      "text/plain": [
       "defaultdict(int, {'NC': 1, 'CN': 1, 'NB': 1, 'BC': 1, 'CH': 1, 'HB': 1})"
      ]
     },
     "execution_count": 60,
     "metadata": {},
     "output_type": "execute_result"
    }
   ],
   "source": [
    "test_pair_counts[0]"
   ]
  },
  {
   "cell_type": "code",
   "execution_count": 58,
   "id": "opposite-communication",
   "metadata": {},
   "outputs": [
    {
     "data": {
      "text/plain": [
       "defaultdict(int, {'NC': 1, 'CN': 1, 'NB': 1, 'BC': 1, 'CH': 1, 'HB': 1})"
      ]
     },
     "execution_count": 58,
     "metadata": {},
     "output_type": "execute_result"
    }
   ],
   "source": [
    "polymer_iteration(template, pair_rules, 1)"
   ]
  },
  {
   "cell_type": "code",
   "execution_count": 61,
   "id": "amazing-vocabulary",
   "metadata": {},
   "outputs": [
    {
     "data": {
      "text/plain": [
       "defaultdict(int,\n",
       "            {'NB': 2,\n",
       "             'BC': 2,\n",
       "             'CC': 1,\n",
       "             'CN': 1,\n",
       "             'BB': 2,\n",
       "             'CB': 2,\n",
       "             'BH': 1,\n",
       "             'HC': 1})"
      ]
     },
     "execution_count": 61,
     "metadata": {},
     "output_type": "execute_result"
    }
   ],
   "source": [
    "test_pair_counts[1]"
   ]
  },
  {
   "cell_type": "code",
   "execution_count": 62,
   "id": "satisfied-frost",
   "metadata": {},
   "outputs": [
    {
     "data": {
      "text/plain": [
       "defaultdict(int,\n",
       "            {'NB': 2,\n",
       "             'BC': 2,\n",
       "             'CC': 1,\n",
       "             'CN': 1,\n",
       "             'BB': 2,\n",
       "             'CB': 2,\n",
       "             'BH': 1,\n",
       "             'HC': 1})"
      ]
     },
     "execution_count": 62,
     "metadata": {},
     "output_type": "execute_result"
    }
   ],
   "source": [
    "polymer_iteration(template, pair_rules, 2)"
   ]
  },
  {
   "cell_type": "code",
   "execution_count": 63,
   "id": "confident-aerospace",
   "metadata": {},
   "outputs": [
    {
     "data": {
      "text/plain": [
       "defaultdict(int,\n",
       "            {'NB': 9,\n",
       "             'BB': 9,\n",
       "             'BN': 6,\n",
       "             'BC': 4,\n",
       "             'CC': 2,\n",
       "             'CN': 3,\n",
       "             'NC': 1,\n",
       "             'CB': 5,\n",
       "             'BH': 3,\n",
       "             'HC': 3,\n",
       "             'HH': 1,\n",
       "             'HN': 1,\n",
       "             'NH': 1})"
      ]
     },
     "execution_count": 63,
     "metadata": {},
     "output_type": "execute_result"
    }
   ],
   "source": [
    "test_pair_counts[3]"
   ]
  },
  {
   "cell_type": "code",
   "execution_count": 64,
   "id": "nuclear-health",
   "metadata": {},
   "outputs": [
    {
     "data": {
      "text/plain": [
       "defaultdict(int,\n",
       "            {'NB': 9,\n",
       "             'BB': 9,\n",
       "             'BN': 6,\n",
       "             'BC': 4,\n",
       "             'CC': 2,\n",
       "             'CN': 3,\n",
       "             'NC': 1,\n",
       "             'CB': 5,\n",
       "             'BH': 3,\n",
       "             'HC': 3,\n",
       "             'HH': 1,\n",
       "             'HN': 1,\n",
       "             'NH': 1})"
      ]
     },
     "execution_count": 64,
     "metadata": {},
     "output_type": "execute_result"
    }
   ],
   "source": [
    "polymer_iteration(template, pair_rules, 4)"
   ]
  },
  {
   "cell_type": "code",
   "execution_count": 67,
   "id": "mediterranean-warehouse",
   "metadata": {},
   "outputs": [],
   "source": [
    "def polymer_step(pair_counts, pair_rules, first, last):\n",
    "    out_counts = defaultdict(int)\n",
    "\n",
    "    for k, v in pair_counts.items():\n",
    "        if k in pair_rules:\n",
    "            o1, o2 = pair_rules[k]\n",
    "            out_counts[o1] += v\n",
    "            out_counts[o2] += v\n",
    "    \n",
    "    out_first, _ = pair_rules[first]\n",
    "    _, out_last = pair_rules[last]\n",
    "\n",
    "    return out_counts, first, last"
   ]
  },
  {
   "cell_type": "code",
   "execution_count": 34,
   "id": "organic-wisconsin",
   "metadata": {},
   "outputs": [],
   "source": [
    "out_pair_counts = defaultdict(int)\n",
    "\n",
    "for i1, i2 in zip(template[:-1], template[1:]):\n",
    "    out_pair_counts[i1+i2] += 1"
   ]
  },
  {
   "cell_type": "code",
   "execution_count": 35,
   "id": "separate-albania",
   "metadata": {},
   "outputs": [
    {
     "data": {
      "text/plain": [
       "defaultdict(int, {'NN': 1, 'NC': 1, 'CB': 1})"
      ]
     },
     "execution_count": 35,
     "metadata": {},
     "output_type": "execute_result"
    }
   ],
   "source": [
    "out_pair_counts"
   ]
  },
  {
   "cell_type": "code",
   "execution_count": 66,
   "id": "imposed-croatia",
   "metadata": {},
   "outputs": [],
   "source": [
    "def polymer_iteration(template, pair_rules, num_iterations):\n",
    "    out_pair_counts = defaultdict(int)\n",
    "\n",
    "    for i1, i2 in zip(template[:-1], template[1:]):\n",
    "        out_pair_counts[i1+i2] += 1\n",
    "    \n",
    "    first = template[:2]\n",
    "    last = template[-2:]\n",
    "\n",
    "    for _ in range(num_iterations):\n",
    "        out_pair_counts, first, last = polymer_step(out_pair_counts, pair_rules)\n",
    "\n",
    "    return out_pair_counts, first, last"
   ]
  },
  {
   "cell_type": "code",
   "execution_count": 51,
   "id": "catholic-attitude",
   "metadata": {},
   "outputs": [],
   "source": [
    "def score_pair_counts(pair_counts, first, last):\n",
    "    element_counts = defaultdict(int)\n",
    "    \n",
    "    for (e1, e2), v in pair_counts.items():\n",
    "        element_counts[e1] += v\n",
    "        element_counts[e2] += v\n",
    "\n",
    "    largest_quantity = max(element_counts.values())\n",
    "    smallest_quantity = min(element_counts.values())\n",
    "\n",
    "    print(largest_quantity)\n",
    "    print(smallest_quantity)\n",
    "\n",
    "    return largest_quantity - smallest_quantity"
   ]
  },
  {
   "cell_type": "code",
   "execution_count": 49,
   "id": "unexpected-concept",
   "metadata": {},
   "outputs": [],
   "source": [
    "out_pairs = polymer_iteration(template, pair_rules, 10)"
   ]
  },
  {
   "cell_type": "code",
   "execution_count": 52,
   "id": "tired-action",
   "metadata": {},
   "outputs": [
    {
     "name": "stdout",
     "output_type": "stream",
     "text": [
      "3497\n",
      "322\n"
     ]
    },
    {
     "data": {
      "text/plain": [
       "3175"
      ]
     },
     "execution_count": 52,
     "metadata": {},
     "output_type": "execute_result"
    }
   ],
   "source": [
    "score_pair_counts(out_pairs)"
   ]
  },
  {
   "cell_type": "code",
   "execution_count": null,
   "id": "closing-combat",
   "metadata": {},
   "outputs": [],
   "source": []
  }
 ],
 "metadata": {
  "kernelspec": {
   "display_name": "Python 3",
   "language": "python",
   "name": "python3"
  },
  "language_info": {
   "codemirror_mode": {
    "name": "ipython",
    "version": 3
   },
   "file_extension": ".py",
   "mimetype": "text/x-python",
   "name": "python",
   "nbconvert_exporter": "python",
   "pygments_lexer": "ipython3",
   "version": "3.9.4"
  }
 },
 "nbformat": 4,
 "nbformat_minor": 5
}
