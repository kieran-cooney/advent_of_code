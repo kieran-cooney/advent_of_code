{
 "cells": [
  {
   "cell_type": "code",
   "execution_count": 1,
   "id": "seasonal-twenty",
   "metadata": {},
   "outputs": [],
   "source": [
    "import re\n",
    "import numpy as np\n",
    "\n",
    "LINE_PATTERN = re.compile(r\"(\\d+),(\\d+) -> (\\d+),(\\d+)\")"
   ]
  },
  {
   "cell_type": "code",
   "execution_count": 4,
   "id": "appointed-consciousness",
   "metadata": {},
   "outputs": [],
   "source": [
    "with open('test_input.txt', 'r') as f:\n",
    "    lines = [LINE_PATTERN.match(l).groups() for l in f]"
   ]
  },
  {
   "cell_type": "code",
   "execution_count": 5,
   "id": "abroad-passenger",
   "metadata": {},
   "outputs": [],
   "source": [
    "a = np.fromiter(iter(lines), dtype='int,int,int,int')"
   ]
  },
  {
   "cell_type": "code",
   "execution_count": 9,
   "id": "random-vinyl",
   "metadata": {},
   "outputs": [
    {
     "data": {
      "text/plain": [
       "array([(0, 9, 5, 9), (8, 0, 0, 8), (9, 4, 3, 4), (2, 2, 2, 1),\n",
       "       (7, 0, 7, 4), (6, 4, 2, 0), (0, 9, 2, 9), (3, 4, 1, 4),\n",
       "       (0, 0, 8, 8), (5, 5, 8, 2)],\n",
       "      dtype=[('f0', '<i8'), ('f1', '<i8'), ('f2', '<i8'), ('f3', '<i8')])"
      ]
     },
     "execution_count": 9,
     "metadata": {},
     "output_type": "execute_result"
    }
   ],
   "source": [
    "a.view()"
   ]
  },
  {
   "cell_type": "code",
   "execution_count": 10,
   "id": "parental-extension",
   "metadata": {},
   "outputs": [
    {
     "data": {
      "text/plain": [
       "array([1, 2, 3, 4])"
      ]
     },
     "execution_count": 10,
     "metadata": {},
     "output_type": "execute_result"
    }
   ],
   "source": [
    "np.arange(1, 5)"
   ]
  },
  {
   "cell_type": "code",
   "execution_count": null,
   "id": "brave-petroleum",
   "metadata": {},
   "outputs": [],
   "source": [
    "def parse_input(filepath):\n",
    "\n",
    "\n",
    "        a = (\n",
    "            \n",
    "            .view(np.int32)\n",
    "            .reshape(-1, 4)\n",
    "        )\n",
    "\n",
    "\n",
    "    return a"
   ]
  },
  {
   "cell_type": "code",
   "execution_count": 12,
   "id": "realistic-vaccine",
   "metadata": {},
   "outputs": [],
   "source": [
    "def sym_arange(start, stop):\n",
    "    if stop > start:\n",
    "        return np.arange(start, stop + 1)\n",
    "    else:\n",
    "        return np.arange(stop, start-1, step=-1)"
   ]
  },
  {
   "cell_type": "code",
   "execution_count": 13,
   "id": "artificial-madonna",
   "metadata": {},
   "outputs": [
    {
     "data": {
      "text/plain": [
       "array([1, 2, 3, 4, 5])"
      ]
     },
     "execution_count": 13,
     "metadata": {},
     "output_type": "execute_result"
    }
   ],
   "source": [
    "sym_arange(1, 5)"
   ]
  },
  {
   "cell_type": "code",
   "execution_count": 14,
   "id": "prerequisite-encoding",
   "metadata": {},
   "outputs": [
    {
     "data": {
      "text/plain": [
       "array([], dtype=int64)"
      ]
     },
     "execution_count": 14,
     "metadata": {},
     "output_type": "execute_result"
    }
   ],
   "source": [
    "sym_arange(5, 1)"
   ]
  },
  {
   "cell_type": "code",
   "execution_count": 15,
   "id": "palestinian-sewing",
   "metadata": {},
   "outputs": [
    {
     "data": {
      "text/plain": [
       "array([5, 4, 3, 2])"
      ]
     },
     "execution_count": 15,
     "metadata": {},
     "output_type": "execute_result"
    }
   ],
   "source": [
    "np.arange(5, 1, step=-1)"
   ]
  },
  {
   "cell_type": "code",
   "execution_count": null,
   "id": "twelve-travel",
   "metadata": {},
   "outputs": [],
   "source": []
  }
 ],
 "metadata": {
  "kernelspec": {
   "display_name": "Python 3",
   "language": "python",
   "name": "python3"
  },
  "language_info": {
   "codemirror_mode": {
    "name": "ipython",
    "version": 3
   },
   "file_extension": ".py",
   "mimetype": "text/x-python",
   "name": "python",
   "nbconvert_exporter": "python",
   "pygments_lexer": "ipython3",
   "version": "3.9.4"
  }
 },
 "nbformat": 4,
 "nbformat_minor": 5
}
