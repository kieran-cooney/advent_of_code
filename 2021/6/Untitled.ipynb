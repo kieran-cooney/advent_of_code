{
 "cells": [
  {
   "cell_type": "code",
   "execution_count": 19,
   "id": "magnetic-overview",
   "metadata": {},
   "outputs": [],
   "source": [
    "from collections import Counter\n",
    "\n",
    "def parse_input(filepath):\n",
    "    with open(filepath, 'r') as f:\n",
    "        line = next(f)\n",
    "    nums = [int(x) for x in line.split(',')]\n",
    "    num_counts = Counter(nums)\n",
    "    \n",
    "    out = [0]*9\n",
    "    \n",
    "    for k, v in num_counts.items():\n",
    "        out[k] = v\n",
    "\n",
    "    return out"
   ]
  },
  {
   "cell_type": "code",
   "execution_count": 2,
   "id": "another-pencil",
   "metadata": {},
   "outputs": [
    {
     "ename": "TypeError",
     "evalue": "unbound method dict.items() needs an argument",
     "output_type": "error",
     "traceback": [
      "\u001b[0;31m---------------------------------------------------------------------------\u001b[0m",
      "\u001b[0;31mTypeError\u001b[0m                                 Traceback (most recent call last)",
      "\u001b[0;32m<ipython-input-2-8a022a91d35d>\u001b[0m in \u001b[0;36m<module>\u001b[0;34m\u001b[0m\n\u001b[0;32m----> 1\u001b[0;31m \u001b[0ml\u001b[0m \u001b[0;34m=\u001b[0m \u001b[0mparse_input\u001b[0m\u001b[0;34m(\u001b[0m\u001b[0;34m'test_input.txt'\u001b[0m\u001b[0;34m)\u001b[0m\u001b[0;34m\u001b[0m\u001b[0;34m\u001b[0m\u001b[0m\n\u001b[0m",
      "\u001b[0;32m<ipython-input-1-455c748902a4>\u001b[0m in \u001b[0;36mparse_input\u001b[0;34m(filepath)\u001b[0m\n\u001b[1;32m      9\u001b[0m     \u001b[0mout\u001b[0m \u001b[0;34m=\u001b[0m \u001b[0;34m[\u001b[0m\u001b[0;36m0\u001b[0m\u001b[0;34m]\u001b[0m\u001b[0;34m*\u001b[0m\u001b[0;36m8\u001b[0m\u001b[0;34m\u001b[0m\u001b[0;34m\u001b[0m\u001b[0m\n\u001b[1;32m     10\u001b[0m \u001b[0;34m\u001b[0m\u001b[0m\n\u001b[0;32m---> 11\u001b[0;31m     \u001b[0;32mfor\u001b[0m \u001b[0mk\u001b[0m\u001b[0;34m,\u001b[0m \u001b[0mv\u001b[0m \u001b[0;32min\u001b[0m \u001b[0mnum_counts\u001b[0m\u001b[0;34m.\u001b[0m\u001b[0mitems\u001b[0m\u001b[0;34m(\u001b[0m\u001b[0;34m)\u001b[0m\u001b[0;34m:\u001b[0m\u001b[0;34m\u001b[0m\u001b[0;34m\u001b[0m\u001b[0m\n\u001b[0m\u001b[1;32m     12\u001b[0m         \u001b[0mout\u001b[0m\u001b[0;34m[\u001b[0m\u001b[0mk\u001b[0m\u001b[0;34m]\u001b[0m \u001b[0;34m=\u001b[0m \u001b[0mv\u001b[0m\u001b[0;34m\u001b[0m\u001b[0;34m\u001b[0m\u001b[0m\n\u001b[1;32m     13\u001b[0m \u001b[0;34m\u001b[0m\u001b[0m\n",
      "\u001b[0;31mTypeError\u001b[0m: unbound method dict.items() needs an argument"
     ]
    }
   ],
   "source": [
    "l = parse_input('test_input.txt')"
   ]
  },
  {
   "cell_type": "code",
   "execution_count": 93,
   "id": "soviet-greene",
   "metadata": {},
   "outputs": [],
   "source": [
    "filepath='input.txt'"
   ]
  },
  {
   "cell_type": "code",
   "execution_count": 94,
   "id": "material-chaos",
   "metadata": {},
   "outputs": [],
   "source": [
    "with open(filepath, 'r') as f:\n",
    "    line = next(f)\n",
    "nums = [int(x) for x in line.split(',')]\n",
    "num_counts = Counter(nums)"
   ]
  },
  {
   "cell_type": "code",
   "execution_count": 95,
   "id": "closed-museum",
   "metadata": {},
   "outputs": [
    {
     "data": {
      "text/plain": [
       "[3,\n",
       " 4,\n",
       " 1,\n",
       " 1,\n",
       " 5,\n",
       " 1,\n",
       " 3,\n",
       " 1,\n",
       " 1,\n",
       " 3,\n",
       " 5,\n",
       " 1,\n",
       " 1,\n",
       " 5,\n",
       " 3,\n",
       " 2,\n",
       " 4,\n",
       " 2,\n",
       " 2,\n",
       " 2,\n",
       " 1,\n",
       " 1,\n",
       " 1,\n",
       " 1,\n",
       " 5,\n",
       " 1,\n",
       " 1,\n",
       " 1,\n",
       " 1,\n",
       " 1,\n",
       " 3,\n",
       " 1,\n",
       " 1,\n",
       " 5,\n",
       " 4,\n",
       " 1,\n",
       " 1,\n",
       " 1,\n",
       " 4,\n",
       " 1,\n",
       " 1,\n",
       " 1,\n",
       " 1,\n",
       " 2,\n",
       " 3,\n",
       " 2,\n",
       " 5,\n",
       " 1,\n",
       " 5,\n",
       " 1,\n",
       " 2,\n",
       " 1,\n",
       " 1,\n",
       " 1,\n",
       " 4,\n",
       " 1,\n",
       " 1,\n",
       " 1,\n",
       " 1,\n",
       " 3,\n",
       " 1,\n",
       " 1,\n",
       " 3,\n",
       " 1,\n",
       " 1,\n",
       " 1,\n",
       " 1,\n",
       " 1,\n",
       " 1,\n",
       " 2,\n",
       " 3,\n",
       " 4,\n",
       " 2,\n",
       " 1,\n",
       " 3,\n",
       " 1,\n",
       " 1,\n",
       " 2,\n",
       " 1,\n",
       " 1,\n",
       " 2,\n",
       " 1,\n",
       " 5,\n",
       " 2,\n",
       " 1,\n",
       " 1,\n",
       " 1,\n",
       " 1,\n",
       " 1,\n",
       " 1,\n",
       " 4,\n",
       " 1,\n",
       " 1,\n",
       " 1,\n",
       " 1,\n",
       " 5,\n",
       " 1,\n",
       " 4,\n",
       " 1,\n",
       " 1,\n",
       " 1,\n",
       " 3,\n",
       " 3,\n",
       " 1,\n",
       " 3,\n",
       " 1,\n",
       " 3,\n",
       " 1,\n",
       " 4,\n",
       " 1,\n",
       " 1,\n",
       " 1,\n",
       " 1,\n",
       " 1,\n",
       " 4,\n",
       " 5,\n",
       " 1,\n",
       " 1,\n",
       " 3,\n",
       " 2,\n",
       " 2,\n",
       " 5,\n",
       " 5,\n",
       " 4,\n",
       " 3,\n",
       " 1,\n",
       " 2,\n",
       " 1,\n",
       " 1,\n",
       " 1,\n",
       " 4,\n",
       " 1,\n",
       " 3,\n",
       " 4,\n",
       " 1,\n",
       " 1,\n",
       " 1,\n",
       " 1,\n",
       " 2,\n",
       " 1,\n",
       " 1,\n",
       " 3,\n",
       " 2,\n",
       " 1,\n",
       " 1,\n",
       " 1,\n",
       " 1,\n",
       " 1,\n",
       " 4,\n",
       " 1,\n",
       " 1,\n",
       " 1,\n",
       " 4,\n",
       " 4,\n",
       " 5,\n",
       " 2,\n",
       " 1,\n",
       " 1,\n",
       " 1,\n",
       " 1,\n",
       " 1,\n",
       " 2,\n",
       " 4,\n",
       " 2,\n",
       " 1,\n",
       " 1,\n",
       " 1,\n",
       " 2,\n",
       " 1,\n",
       " 1,\n",
       " 2,\n",
       " 1,\n",
       " 5,\n",
       " 1,\n",
       " 5,\n",
       " 2,\n",
       " 5,\n",
       " 5,\n",
       " 1,\n",
       " 1,\n",
       " 3,\n",
       " 1,\n",
       " 4,\n",
       " 1,\n",
       " 1,\n",
       " 1,\n",
       " 1,\n",
       " 1,\n",
       " 1,\n",
       " 1,\n",
       " 4,\n",
       " 1,\n",
       " 1,\n",
       " 4,\n",
       " 1,\n",
       " 1,\n",
       " 1,\n",
       " 1,\n",
       " 1,\n",
       " 2,\n",
       " 1,\n",
       " 2,\n",
       " 1,\n",
       " 1,\n",
       " 1,\n",
       " 5,\n",
       " 1,\n",
       " 1,\n",
       " 3,\n",
       " 5,\n",
       " 1,\n",
       " 1,\n",
       " 5,\n",
       " 5,\n",
       " 3,\n",
       " 5,\n",
       " 3,\n",
       " 4,\n",
       " 1,\n",
       " 1,\n",
       " 1,\n",
       " 3,\n",
       " 1,\n",
       " 1,\n",
       " 3,\n",
       " 1,\n",
       " 1,\n",
       " 1,\n",
       " 1,\n",
       " 1,\n",
       " 1,\n",
       " 5,\n",
       " 1,\n",
       " 3,\n",
       " 1,\n",
       " 5,\n",
       " 1,\n",
       " 1,\n",
       " 4,\n",
       " 1,\n",
       " 3,\n",
       " 1,\n",
       " 1,\n",
       " 1,\n",
       " 2,\n",
       " 1,\n",
       " 1,\n",
       " 1,\n",
       " 2,\n",
       " 1,\n",
       " 5,\n",
       " 1,\n",
       " 1,\n",
       " 1,\n",
       " 1,\n",
       " 4,\n",
       " 1,\n",
       " 3,\n",
       " 2,\n",
       " 3,\n",
       " 4,\n",
       " 1,\n",
       " 3,\n",
       " 5,\n",
       " 3,\n",
       " 4,\n",
       " 1,\n",
       " 4,\n",
       " 4,\n",
       " 4,\n",
       " 1,\n",
       " 3,\n",
       " 2,\n",
       " 4,\n",
       " 1,\n",
       " 4,\n",
       " 1,\n",
       " 1,\n",
       " 2,\n",
       " 1,\n",
       " 3,\n",
       " 1,\n",
       " 5,\n",
       " 5,\n",
       " 1,\n",
       " 5,\n",
       " 1,\n",
       " 1,\n",
       " 1,\n",
       " 5,\n",
       " 2,\n",
       " 1,\n",
       " 2,\n",
       " 3,\n",
       " 1,\n",
       " 4,\n",
       " 3,\n",
       " 3,\n",
       " 4,\n",
       " 3]"
      ]
     },
     "execution_count": 95,
     "metadata": {},
     "output_type": "execute_result"
    }
   ],
   "source": [
    "nums"
   ]
  },
  {
   "cell_type": "code",
   "execution_count": 96,
   "id": "eight-netherlands",
   "metadata": {},
   "outputs": [
    {
     "data": {
      "text/plain": [
       "Counter({3: 36, 4: 32, 1: 170, 5: 30, 2: 32})"
      ]
     },
     "execution_count": 96,
     "metadata": {},
     "output_type": "execute_result"
    }
   ],
   "source": [
    "num_counts"
   ]
  },
  {
   "cell_type": "code",
   "execution_count": 97,
   "id": "western-devil",
   "metadata": {},
   "outputs": [],
   "source": [
    "out = [0]*9\n",
    "\n",
    "for k, v in num_counts.items():\n",
    "    out[k] = v"
   ]
  },
  {
   "cell_type": "code",
   "execution_count": 98,
   "id": "knowing-rocket",
   "metadata": {},
   "outputs": [
    {
     "data": {
      "text/plain": [
       "[0, 170, 32, 36, 32, 30, 0, 0, 0]"
      ]
     },
     "execution_count": 98,
     "metadata": {},
     "output_type": "execute_result"
    }
   ],
   "source": [
    "out"
   ]
  },
  {
   "cell_type": "code",
   "execution_count": 99,
   "id": "revolutionary-geometry",
   "metadata": {},
   "outputs": [],
   "source": [
    "def step_fish_day(day_counts):\n",
    "    new_fish = day_counts[0]\n",
    "    day_counts[:-1] = day_counts[1:]\n",
    "    day_counts[-1] = new_fish\n",
    "    day_counts[6] += new_fish\n",
    "    pass"
   ]
  },
  {
   "cell_type": "code",
   "execution_count": 70,
   "id": "modified-april",
   "metadata": {},
   "outputs": [
    {
     "data": {
      "text/plain": [
       "[1, 0, 0, 0, 1, 1, 2, 1, 2]"
      ]
     },
     "execution_count": 70,
     "metadata": {},
     "output_type": "execute_result"
    }
   ],
   "source": [
    "out"
   ]
  },
  {
   "cell_type": "code",
   "execution_count": 71,
   "id": "induced-cameroon",
   "metadata": {},
   "outputs": [
    {
     "data": {
      "text/plain": [
       "8"
      ]
     },
     "execution_count": 71,
     "metadata": {},
     "output_type": "execute_result"
    }
   ],
   "source": [
    "sum(out)"
   ]
  },
  {
   "cell_type": "code",
   "execution_count": 69,
   "id": "collectible-eugene",
   "metadata": {},
   "outputs": [],
   "source": [
    "step_fish_day(out)"
   ]
  },
  {
   "cell_type": "code",
   "execution_count": 88,
   "id": "scientific-petersburg",
   "metadata": {},
   "outputs": [],
   "source": [
    "def lanternfish_model(initial_day_counts, num_days):\n",
    "    day_counts = initial_day_counts.copy()\n",
    "    for _ in range(num_days):\n",
    "        step_fish_day(day_counts)\n",
    "    return day_counts"
   ]
  },
  {
   "cell_type": "code",
   "execution_count": 89,
   "id": "surprised-stick",
   "metadata": {},
   "outputs": [],
   "source": [
    "def lanternfish_model_all(initial_day_counts, num_days):\n",
    "    day_counts = initial_day_counts.copy()\n",
    "    all_results = [day_counts.copy(),]\n",
    "    for _ in range(num_days):\n",
    "        step_fish_day(day_counts)\n",
    "        all_results.append(day_counts.copy())\n",
    "    return all_results"
   ]
  },
  {
   "cell_type": "code",
   "execution_count": 103,
   "id": "hindu-harris",
   "metadata": {},
   "outputs": [],
   "source": [
    "final = lanternfish_model(out, 256)"
   ]
  },
  {
   "cell_type": "code",
   "execution_count": 104,
   "id": "cardiovascular-international",
   "metadata": {},
   "outputs": [
    {
     "data": {
      "text/plain": [
       "[144083816932,\n",
       " 176086817004,\n",
       " 181819751218,\n",
       " 196842519500,\n",
       " 229805868268,\n",
       " 222529360802,\n",
       " 281410955052,\n",
       " 118884319740,\n",
       " 153545244780]"
      ]
     },
     "execution_count": 104,
     "metadata": {},
     "output_type": "execute_result"
    }
   ],
   "source": [
    "final"
   ]
  },
  {
   "cell_type": "code",
   "execution_count": 105,
   "id": "distinct-hacker",
   "metadata": {},
   "outputs": [
    {
     "data": {
      "text/plain": [
       "1705008653296"
      ]
     },
     "execution_count": 105,
     "metadata": {},
     "output_type": "execute_result"
    }
   ],
   "source": [
    "sum(final)"
   ]
  },
  {
   "cell_type": "code",
   "execution_count": 84,
   "id": "elementary-stage",
   "metadata": {},
   "outputs": [],
   "source": [
    "all_results = lanternfish_model_all(out, 80)"
   ]
  },
  {
   "cell_type": "code",
   "execution_count": 86,
   "id": "indoor-participation",
   "metadata": {},
   "outputs": [
    {
     "data": {
      "text/plain": [
       "[[0, 1, 1, 2, 1, 0, 0, 0, 0],\n",
       " [1, 1, 2, 1, 0, 0, 0, 0, 0],\n",
       " [1, 2, 1, 0, 0, 0, 1, 0, 1],\n",
       " [2, 1, 0, 0, 0, 1, 1, 1, 1],\n",
       " [1, 0, 0, 0, 1, 1, 2, 1, 2],\n",
       " [0, 0, 0, 1, 1, 2, 1, 2, 1],\n",
       " [0, 0, 1, 1, 2, 1, 0, 1, 0],\n",
       " [0, 1, 1, 2, 1, 0, 0, 0, 0],\n",
       " [1, 1, 2, 1, 0, 0, 0, 0, 0],\n",
       " [1, 2, 1, 0, 0, 0, 1, 0, 1],\n",
       " [2, 1, 0, 0, 0, 1, 1, 1, 1],\n",
       " [1, 0, 0, 0, 1, 1, 2, 1, 2],\n",
       " [0, 0, 0, 1, 1, 2, 1, 2, 1],\n",
       " [0, 0, 1, 1, 2, 1, 0, 1, 0],\n",
       " [0, 1, 1, 2, 1, 0, 0, 0, 0],\n",
       " [1, 1, 2, 1, 0, 0, 0, 0, 0],\n",
       " [1, 2, 1, 0, 0, 0, 1, 0, 1],\n",
       " [2, 1, 0, 0, 0, 1, 1, 1, 1],\n",
       " [1, 0, 0, 0, 1, 1, 2, 1, 2],\n",
       " [0, 0, 0, 1, 1, 2, 1, 2, 1],\n",
       " [0, 0, 1, 1, 2, 1, 0, 1, 0],\n",
       " [0, 1, 1, 2, 1, 0, 0, 0, 0],\n",
       " [1, 1, 2, 1, 0, 0, 0, 0, 0],\n",
       " [1, 2, 1, 0, 0, 0, 1, 0, 1],\n",
       " [2, 1, 0, 0, 0, 1, 1, 1, 1],\n",
       " [1, 0, 0, 0, 1, 1, 2, 1, 2],\n",
       " [0, 0, 0, 1, 1, 2, 1, 2, 1],\n",
       " [0, 0, 1, 1, 2, 1, 0, 1, 0],\n",
       " [0, 1, 1, 2, 1, 0, 0, 0, 0],\n",
       " [1, 1, 2, 1, 0, 0, 0, 0, 0],\n",
       " [1, 2, 1, 0, 0, 0, 1, 0, 1],\n",
       " [2, 1, 0, 0, 0, 1, 1, 1, 1],\n",
       " [1, 0, 0, 0, 1, 1, 2, 1, 2],\n",
       " [0, 0, 0, 1, 1, 2, 1, 2, 1],\n",
       " [0, 0, 1, 1, 2, 1, 0, 1, 0],\n",
       " [0, 1, 1, 2, 1, 0, 0, 0, 0],\n",
       " [1, 1, 2, 1, 0, 0, 0, 0, 0],\n",
       " [1, 2, 1, 0, 0, 0, 1, 0, 1],\n",
       " [2, 1, 0, 0, 0, 1, 1, 1, 1],\n",
       " [1, 0, 0, 0, 1, 1, 2, 1, 2],\n",
       " [0, 0, 0, 1, 1, 2, 1, 2, 1],\n",
       " [0, 0, 1, 1, 2, 1, 0, 1, 0],\n",
       " [0, 1, 1, 2, 1, 0, 0, 0, 0],\n",
       " [1, 1, 2, 1, 0, 0, 0, 0, 0],\n",
       " [1, 2, 1, 0, 0, 0, 1, 0, 1],\n",
       " [2, 1, 0, 0, 0, 1, 1, 1, 1],\n",
       " [1, 0, 0, 0, 1, 1, 2, 1, 2],\n",
       " [0, 0, 0, 1, 1, 2, 1, 2, 1],\n",
       " [0, 0, 1, 1, 2, 1, 0, 1, 0],\n",
       " [0, 1, 1, 2, 1, 0, 0, 0, 0],\n",
       " [1, 1, 2, 1, 0, 0, 0, 0, 0],\n",
       " [1, 2, 1, 0, 0, 0, 1, 0, 1],\n",
       " [2, 1, 0, 0, 0, 1, 1, 1, 1],\n",
       " [1, 0, 0, 0, 1, 1, 2, 1, 2],\n",
       " [0, 0, 0, 1, 1, 2, 1, 2, 1],\n",
       " [0, 0, 1, 1, 2, 1, 0, 1, 0],\n",
       " [0, 1, 1, 2, 1, 0, 0, 0, 0],\n",
       " [1, 1, 2, 1, 0, 0, 0, 0, 0],\n",
       " [1, 2, 1, 0, 0, 0, 1, 0, 1],\n",
       " [2, 1, 0, 0, 0, 1, 1, 1, 1],\n",
       " [1, 0, 0, 0, 1, 1, 2, 1, 2],\n",
       " [0, 0, 0, 1, 1, 2, 1, 2, 1],\n",
       " [0, 0, 1, 1, 2, 1, 0, 1, 0],\n",
       " [0, 1, 1, 2, 1, 0, 0, 0, 0],\n",
       " [1, 1, 2, 1, 0, 0, 0, 0, 0],\n",
       " [1, 2, 1, 0, 0, 0, 1, 0, 1],\n",
       " [2, 1, 0, 0, 0, 1, 1, 1, 1],\n",
       " [1, 0, 0, 0, 1, 1, 2, 1, 2],\n",
       " [0, 0, 0, 1, 1, 2, 1, 2, 1],\n",
       " [0, 0, 1, 1, 2, 1, 0, 1, 0],\n",
       " [0, 1, 1, 2, 1, 0, 0, 0, 0],\n",
       " [1, 1, 2, 1, 0, 0, 0, 0, 0],\n",
       " [1, 2, 1, 0, 0, 0, 1, 0, 1],\n",
       " [2, 1, 0, 0, 0, 1, 1, 1, 1],\n",
       " [1, 0, 0, 0, 1, 1, 2, 1, 2],\n",
       " [0, 0, 0, 1, 1, 2, 1, 2, 1],\n",
       " [0, 0, 1, 1, 2, 1, 0, 1, 0],\n",
       " [0, 1, 1, 2, 1, 0, 0, 0, 0],\n",
       " [1, 1, 2, 1, 0, 0, 0, 0, 0],\n",
       " [1, 2, 1, 0, 0, 0, 1, 0, 1],\n",
       " [2, 1, 0, 0, 0, 1, 1, 1, 1]]"
      ]
     },
     "execution_count": 86,
     "metadata": {},
     "output_type": "execute_result"
    }
   ],
   "source": [
    "all_results"
   ]
  },
  {
   "cell_type": "code",
   "execution_count": 47,
   "id": "wound-highlight",
   "metadata": {},
   "outputs": [
    {
     "data": {
      "text/plain": [
       "81"
      ]
     },
     "execution_count": 47,
     "metadata": {},
     "output_type": "execute_result"
    }
   ],
   "source": [
    "sum(all_results[18])"
   ]
  },
  {
   "cell_type": "code",
   "execution_count": 48,
   "id": "suspended-rhythm",
   "metadata": {},
   "outputs": [],
   "source": [
    "sums = [sum(l) for l in all_results]"
   ]
  },
  {
   "cell_type": "code",
   "execution_count": 50,
   "id": "balanced-chance",
   "metadata": {},
   "outputs": [
    {
     "data": {
      "text/plain": [
       "[5, 5, 6, 7, 9, 11, 12, 14, 17, 19, 23, 28, 31, 37, 45, 50, 60, 73, 81, 97]"
      ]
     },
     "execution_count": 50,
     "metadata": {},
     "output_type": "execute_result"
    }
   ],
   "source": [
    "sums[:20]"
   ]
  },
  {
   "cell_type": "code",
   "execution_count": 54,
   "id": "scientific-reynolds",
   "metadata": {},
   "outputs": [
    {
     "data": {
      "text/plain": [
       "[1, 1, 2, 1, 0, 0, 0, 0, 0]"
      ]
     },
     "execution_count": 54,
     "metadata": {},
     "output_type": "execute_result"
    }
   ],
   "source": [
    "all_results[1]"
   ]
  },
  {
   "cell_type": "code",
   "execution_count": 55,
   "id": "sitting-parade",
   "metadata": {},
   "outputs": [
    {
     "data": {
      "text/plain": [
       "[1, 2, 1, 0, 0, 1, 0, 0, 1]"
      ]
     },
     "execution_count": 55,
     "metadata": {},
     "output_type": "execute_result"
    }
   ],
   "source": [
    "all_results[2]"
   ]
  },
  {
   "cell_type": "code",
   "execution_count": 30,
   "id": "celtic-powell",
   "metadata": {},
   "outputs": [
    {
     "data": {
      "text/plain": [
       "[0, 1, 1, 2, 1, 0, 0, 0, 0]"
      ]
     },
     "execution_count": 30,
     "metadata": {},
     "output_type": "execute_result"
    }
   ],
   "source": [
    "out"
   ]
  },
  {
   "cell_type": "code",
   "execution_count": 34,
   "id": "electrical-electronics",
   "metadata": {},
   "outputs": [
    {
     "data": {
      "text/plain": [
       "[75025, 150050, 196418, 121393, 242786, 317811, 121393, 242786, 317811]"
      ]
     },
     "execution_count": 34,
     "metadata": {},
     "output_type": "execute_result"
    }
   ],
   "source": [
    "final"
   ]
  },
  {
   "cell_type": "code",
   "execution_count": 35,
   "id": "passive-mandate",
   "metadata": {},
   "outputs": [
    {
     "data": {
      "text/plain": [
       "1785473"
      ]
     },
     "execution_count": 35,
     "metadata": {},
     "output_type": "execute_result"
    }
   ],
   "source": [
    "sum(final)"
   ]
  },
  {
   "cell_type": "code",
   "execution_count": null,
   "id": "thermal-motion",
   "metadata": {},
   "outputs": [],
   "source": []
  }
 ],
 "metadata": {
  "kernelspec": {
   "display_name": "Python 3",
   "language": "python",
   "name": "python3"
  },
  "language_info": {
   "codemirror_mode": {
    "name": "ipython",
    "version": 3
   },
   "file_extension": ".py",
   "mimetype": "text/x-python",
   "name": "python",
   "nbconvert_exporter": "python",
   "pygments_lexer": "ipython3",
   "version": "3.9.4"
  }
 },
 "nbformat": 4,
 "nbformat_minor": 5
}
