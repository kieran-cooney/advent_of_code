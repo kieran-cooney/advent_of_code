{
 "cells": [
  {
   "cell_type": "code",
   "execution_count": 1,
   "id": "realistic-spray",
   "metadata": {},
   "outputs": [],
   "source": [
    "import numpy as np"
   ]
  },
  {
   "cell_type": "code",
   "execution_count": 27,
   "id": "worse-wyoming",
   "metadata": {},
   "outputs": [],
   "source": [
    "def parse_input(filepath):\n",
    "    with open(filepath, 'r') as f:\n",
    "        N = len(next(f).strip())\n",
    "    \n",
    "    with open(filepath, 'r') as f:\n",
    "        a = np.genfromtxt(f, delimiter=[1,]*N, dtype=np.int8)\n",
    "\n",
    "    return a"
   ]
  },
  {
   "cell_type": "code",
   "execution_count": 77,
   "id": "resistant-niger",
   "metadata": {},
   "outputs": [],
   "source": [
    "a = parse_input('input.txt')"
   ]
  },
  {
   "cell_type": "code",
   "execution_count": 55,
   "id": "veterinary-congo",
   "metadata": {},
   "outputs": [
    {
     "data": {
      "text/plain": [
       "array([[7, 6, 7, ..., 4, 5, 8],\n",
       "       [6, 5, 6, ..., 3, 8, 7],\n",
       "       [5, 4, 2, ..., 2, 3, 5],\n",
       "       ...,\n",
       "       [2, 1, 3, ..., 4, 5, 8],\n",
       "       [3, 4, 4, ..., 4, 5, 5],\n",
       "       [4, 5, 8, ..., 2, 3, 4]], dtype=int8)"
      ]
     },
     "execution_count": 55,
     "metadata": {},
     "output_type": "execute_result"
    }
   ],
   "source": [
    "a"
   ]
  },
  {
   "cell_type": "code",
   "execution_count": 56,
   "id": "passing-oregon",
   "metadata": {},
   "outputs": [],
   "source": [
    "def find_minima(a):\n",
    "    padded = np.pad(a, pad_width=1, constant_values=10)\n",
    "\n",
    "    is_minimia = (\n",
    "        (a < padded[1:-1, :-2]) &\n",
    "        (a < padded[1:-1, 2:]) &\n",
    "        (a < padded[:-2, 1:-1]) &\n",
    "        (a < padded[2:, 1:-1])\n",
    "    )\n",
    "\n",
    "    return is_minimia"
   ]
  },
  {
   "cell_type": "code",
   "execution_count": 57,
   "id": "encouraging-whale",
   "metadata": {},
   "outputs": [],
   "source": [
    "is_minima = find_minima(a)"
   ]
  },
  {
   "cell_type": "code",
   "execution_count": 58,
   "id": "bizarre-vehicle",
   "metadata": {},
   "outputs": [],
   "source": [
    "def get_risk_level(a, is_minima):\n",
    "    return (a[is_minima] + 1).sum()"
   ]
  },
  {
   "cell_type": "code",
   "execution_count": 59,
   "id": "legitimate-george",
   "metadata": {},
   "outputs": [
    {
     "data": {
      "text/plain": [
       "550"
      ]
     },
     "execution_count": 59,
     "metadata": {},
     "output_type": "execute_result"
    }
   ],
   "source": [
    "get_risk_level(a, is_minima)"
   ]
  },
  {
   "cell_type": "code",
   "execution_count": 60,
   "id": "clinical-standard",
   "metadata": {},
   "outputs": [],
   "source": [
    "from scipy.ndimage import label"
   ]
  },
  {
   "cell_type": "code",
   "execution_count": 78,
   "id": "julian-integrity",
   "metadata": {},
   "outputs": [],
   "source": [
    "values, counts = np.unique(label(a != 9)[0].flatten(), return_counts=True)"
   ]
  },
  {
   "cell_type": "code",
   "execution_count": 79,
   "id": "digital-jimmy",
   "metadata": {},
   "outputs": [],
   "source": [
    "vc = np.stack((values, counts))"
   ]
  },
  {
   "cell_type": "code",
   "execution_count": 80,
   "id": "nervous-millennium",
   "metadata": {},
   "outputs": [
    {
     "data": {
      "text/plain": [
       "array([[   0,    1,    2,    3,    4,    5,    6,    7,    8,    9,   10,\n",
       "          11,   12,   13,   14,   15,   16,   17,   18,   19,   20,   21,\n",
       "          22,   23,   24,   25,   26,   27,   28,   29,   30,   31,   32,\n",
       "          33,   34,   35,   36,   37,   38,   39,   40,   41,   42,   43,\n",
       "          44,   45,   46,   47,   48,   49,   50,   51,   52,   53,   54,\n",
       "          55,   56,   57,   58,   59,   60,   61,   62,   63,   64,   65,\n",
       "          66,   67,   68,   69,   70,   71,   72,   73,   74,   75,   76,\n",
       "          77,   78,   79,   80,   81,   82,   83,   84,   85,   86,   87,\n",
       "          88,   89,   90,   91,   92,   93,   94,   95,   96,   97,   98,\n",
       "          99,  100,  101,  102,  103,  104,  105,  106,  107,  108,  109,\n",
       "         110,  111,  112,  113,  114,  115,  116,  117,  118,  119,  120,\n",
       "         121,  122,  123,  124,  125,  126,  127,  128,  129,  130,  131,\n",
       "         132,  133,  134,  135,  136,  137,  138,  139,  140,  141,  142,\n",
       "         143,  144,  145,  146,  147,  148,  149,  150,  151,  152,  153,\n",
       "         154,  155,  156,  157,  158,  159,  160,  161,  162,  163,  164,\n",
       "         165,  166,  167,  168,  169,  170,  171,  172,  173,  174,  175,\n",
       "         176,  177,  178,  179,  180,  181,  182,  183,  184,  185,  186,\n",
       "         187,  188,  189,  190,  191,  192,  193,  194,  195,  196,  197,\n",
       "         198,  199,  200,  201,  202,  203,  204,  205,  206,  207,  208,\n",
       "         209,  210,  211,  212,  213,  214,  215,  216,  217,  218,  219,\n",
       "         220,  221,  222,  223,  224,  225,  226],\n",
       "       [2738,   43,   69,   51,   38,   25,   69,   53,   20,   33,   38,\n",
       "           6,   30,    2,   51,   20,   11,   35,   61,   24,   17,   19,\n",
       "          60,   42,   16,   22,   57,    9,    4,    6,   29,    7,    6,\n",
       "          19,   24,    3,    2,   22,   42,   11,   45,    7,   50,    9,\n",
       "          48,    2,   85,    3,   81,   27,   69,    9,   18,   38,    6,\n",
       "          30,   99,   37,  102,   24,    4,    6,   11,    2,   58,   48,\n",
       "          29,   15,   16,   92,   30,   45,   76,   25,   57,   34,   41,\n",
       "          36,    3,   45,    8,   55,   58,   88,   23,   26,   26,   45,\n",
       "          20,    6,   49,   48,    4,   23,   25,   17,   72,   24,   87,\n",
       "           8,   19,    3,   40,   16,   16,    8,   53,   43,   14,   16,\n",
       "          37,   24,   41,   52,   81,   61,   59,   47,   48,    2,   14,\n",
       "          49,   81,   38,   26,   92,   34,    7,    9,    9,    4,    6,\n",
       "          94,   43,   43,   62,    2,   19,   75,    7,    3,   16,   59,\n",
       "          31,   18,   43,   75,   11,    7,   16,   79,    2,   12,   39,\n",
       "           5,   43,   15,    3,   57,   24,    5,   19,   22,    2,   68,\n",
       "          39,    6,   28,   50,   14,    4,   18,   22,   73,    3,   27,\n",
       "          69,   83,    7,   41,   34,    3,   61,    6,   10,   18,    9,\n",
       "          34,   17,    5,   63,   50,  109,   39,    8,   81,   11,   78,\n",
       "          26,   10,   29,   92,   22,    8,    8,   26,    9,   61,   66,\n",
       "          38,    4,   53,   18,   39,   58,    5,   37,   29,   39,   21,\n",
       "          35,   21,   23,   12,    7,    4,    4]])"
      ]
     },
     "execution_count": 80,
     "metadata": {},
     "output_type": "execute_result"
    }
   ],
   "source": [
    "vc"
   ]
  },
  {
   "cell_type": "code",
   "execution_count": 82,
   "id": "wooden-intersection",
   "metadata": {},
   "outputs": [
    {
     "data": {
      "text/plain": [
       "1100682"
      ]
     },
     "execution_count": 82,
     "metadata": {},
     "output_type": "execute_result"
    }
   ],
   "source": [
    "109*102*99"
   ]
  },
  {
   "cell_type": "code",
   "execution_count": 81,
   "id": "lucky-journey",
   "metadata": {},
   "outputs": [
    {
     "data": {
      "text/plain": [
       "[2738,\n",
       " 109,\n",
       " 102,\n",
       " 99,\n",
       " 94,\n",
       " 92,\n",
       " 92,\n",
       " 92,\n",
       " 88,\n",
       " 87,\n",
       " 85,\n",
       " 83,\n",
       " 81,\n",
       " 81,\n",
       " 81,\n",
       " 81,\n",
       " 79,\n",
       " 78,\n",
       " 76,\n",
       " 75,\n",
       " 75,\n",
       " 73,\n",
       " 72,\n",
       " 69,\n",
       " 69,\n",
       " 69,\n",
       " 69,\n",
       " 68,\n",
       " 66,\n",
       " 63,\n",
       " 62,\n",
       " 61,\n",
       " 61,\n",
       " 61,\n",
       " 61,\n",
       " 60,\n",
       " 59,\n",
       " 59,\n",
       " 58,\n",
       " 58,\n",
       " 58,\n",
       " 57,\n",
       " 57,\n",
       " 57,\n",
       " 55,\n",
       " 53,\n",
       " 53,\n",
       " 53,\n",
       " 52,\n",
       " 51,\n",
       " 51,\n",
       " 50,\n",
       " 50,\n",
       " 50,\n",
       " 49,\n",
       " 49,\n",
       " 48,\n",
       " 48,\n",
       " 48,\n",
       " 48,\n",
       " 47,\n",
       " 45,\n",
       " 45,\n",
       " 45,\n",
       " 45,\n",
       " 43,\n",
       " 43,\n",
       " 43,\n",
       " 43,\n",
       " 43,\n",
       " 43,\n",
       " 42,\n",
       " 42,\n",
       " 41,\n",
       " 41,\n",
       " 41,\n",
       " 40,\n",
       " 39,\n",
       " 39,\n",
       " 39,\n",
       " 39,\n",
       " 39,\n",
       " 38,\n",
       " 38,\n",
       " 38,\n",
       " 38,\n",
       " 38,\n",
       " 37,\n",
       " 37,\n",
       " 37,\n",
       " 36,\n",
       " 35,\n",
       " 35,\n",
       " 34,\n",
       " 34,\n",
       " 34,\n",
       " 34,\n",
       " 33,\n",
       " 31,\n",
       " 30,\n",
       " 30,\n",
       " 30,\n",
       " 29,\n",
       " 29,\n",
       " 29,\n",
       " 29,\n",
       " 28,\n",
       " 27,\n",
       " 27,\n",
       " 26,\n",
       " 26,\n",
       " 26,\n",
       " 26,\n",
       " 26,\n",
       " 25,\n",
       " 25,\n",
       " 25,\n",
       " 24,\n",
       " 24,\n",
       " 24,\n",
       " 24,\n",
       " 24,\n",
       " 24,\n",
       " 23,\n",
       " 23,\n",
       " 23,\n",
       " 22,\n",
       " 22,\n",
       " 22,\n",
       " 22,\n",
       " 22,\n",
       " 21,\n",
       " 21,\n",
       " 20,\n",
       " 20,\n",
       " 20,\n",
       " 19,\n",
       " 19,\n",
       " 19,\n",
       " 19,\n",
       " 19,\n",
       " 18,\n",
       " 18,\n",
       " 18,\n",
       " 18,\n",
       " 18,\n",
       " 17,\n",
       " 17,\n",
       " 17,\n",
       " 16,\n",
       " 16,\n",
       " 16,\n",
       " 16,\n",
       " 16,\n",
       " 16,\n",
       " 16,\n",
       " 15,\n",
       " 15,\n",
       " 14,\n",
       " 14,\n",
       " 14,\n",
       " 12,\n",
       " 12,\n",
       " 11,\n",
       " 11,\n",
       " 11,\n",
       " 11,\n",
       " 11,\n",
       " 10,\n",
       " 10,\n",
       " 9,\n",
       " 9,\n",
       " 9,\n",
       " 9,\n",
       " 9,\n",
       " 9,\n",
       " 9,\n",
       " 8,\n",
       " 8,\n",
       " 8,\n",
       " 8,\n",
       " 8,\n",
       " 8,\n",
       " 7,\n",
       " 7,\n",
       " 7,\n",
       " 7,\n",
       " 7,\n",
       " 7,\n",
       " 7,\n",
       " 6,\n",
       " 6,\n",
       " 6,\n",
       " 6,\n",
       " 6,\n",
       " 6,\n",
       " 6,\n",
       " 6,\n",
       " 6,\n",
       " 5,\n",
       " 5,\n",
       " 5,\n",
       " 5,\n",
       " 4,\n",
       " 4,\n",
       " 4,\n",
       " 4,\n",
       " 4,\n",
       " 4,\n",
       " 4,\n",
       " 4,\n",
       " 3,\n",
       " 3,\n",
       " 3,\n",
       " 3,\n",
       " 3,\n",
       " 3,\n",
       " 3,\n",
       " 3,\n",
       " 2,\n",
       " 2,\n",
       " 2,\n",
       " 2,\n",
       " 2,\n",
       " 2,\n",
       " 2,\n",
       " 2]"
      ]
     },
     "execution_count": 81,
     "metadata": {},
     "output_type": "execute_result"
    }
   ],
   "source": [
    "sorted(counts, reverse=True)"
   ]
  },
  {
   "cell_type": "code",
   "execution_count": null,
   "id": "atomic-china",
   "metadata": {},
   "outputs": [],
   "source": []
  }
 ],
 "metadata": {
  "kernelspec": {
   "display_name": "Python 3",
   "language": "python",
   "name": "python3"
  },
  "language_info": {
   "codemirror_mode": {
    "name": "ipython",
    "version": 3
   },
   "file_extension": ".py",
   "mimetype": "text/x-python",
   "name": "python",
   "nbconvert_exporter": "python",
   "pygments_lexer": "ipython3",
   "version": "3.9.4"
  }
 },
 "nbformat": 4,
 "nbformat_minor": 5
}
